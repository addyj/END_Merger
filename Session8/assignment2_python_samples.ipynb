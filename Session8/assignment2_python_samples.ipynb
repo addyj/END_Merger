{
  "nbformat": 4,
  "nbformat_minor": 0,
  "metadata": {
    "colab": {
      "name": "basic_python.ipynb",
      "provenance": [],
      "collapsed_sections": [],
      "authorship_tag": "ABX9TyPhzV7s6OFWzGiACwERAFlD",
      "include_colab_link": true
    },
    "kernelspec": {
      "name": "python3",
      "display_name": "Python 3"
    }
  },
  "cells": [
    {
      "cell_type": "markdown",
      "metadata": {
        "id": "view-in-github",
        "colab_type": "text"
      },
      "source": [
        "<a href=\"https://colab.research.google.com/github/addyj/END_Merger/blob/main/Session8/assignment2_python_samples.ipynb\" target=\"_parent\"><img src=\"https://colab.research.google.com/assets/colab-badge.svg\" alt=\"Open In Colab\"/></a>"
      ]
    },
    {
      "cell_type": "code",
      "metadata": {
        "colab": {
          "base_uri": "https://localhost:8080/"
        },
        "id": "1k_6PZU1d61l",
        "outputId": "1937df58-0e0c-4b28-83bc-ed7befc8a86c"
      },
      "source": [
        "#1. Write a python Program to print sum of two numbers using user input\r\n",
        "num1=int(input(\"Enter first number: \"))\r\n",
        "num2=int(input(\"Enter second number: \"))\r\n",
        "sum=num1+num2\r\n",
        "print(\"sum of two numbers :\",sum)"
      ],
      "execution_count": null,
      "outputs": [
        {
          "output_type": "stream",
          "text": [
            "Enter first number: 2\n",
            "Enter second number: 3\n",
            "sum of two numbers : 5\n"
          ],
          "name": "stdout"
        }
      ]
    },
    {
      "cell_type": "code",
      "metadata": {
        "colab": {
          "base_uri": "https://localhost:8080/"
        },
        "id": "O1bUCewqfF9M",
        "outputId": "d38ff203-4f93-4be0-fd56-91ab132149d2"
      },
      "source": [
        "#2.  Write a python Program to print difference between two user provided numbers\r\n",
        "def sub(num1, num2):    \r\n",
        "  diff = num1 - num2    \r\n",
        "  return diff\r\n",
        "num1=float(input(\"Enter first number: \"))\r\n",
        "num2=float(input(\"Enter second number: \"))\r\n",
        "print(\"difference between two numbers :\",sub(num1, num2))\r\n"
      ],
      "execution_count": null,
      "outputs": [
        {
          "output_type": "stream",
          "text": [
            "Enter first number: 4\n",
            "Enter second number: 5.5\n",
            "difference between two numbers : -1.5\n"
          ],
          "name": "stdout"
        }
      ]
    },
    {
      "cell_type": "code",
      "metadata": {
        "colab": {
          "base_uri": "https://localhost:8080/"
        },
        "id": "ARrB1-gkgbhC",
        "outputId": "cbdf85a5-b594-4d07-888c-70ff8e005b5f"
      },
      "source": [
        "#3. Write a python Program to print multiplication of two numbers \r\n",
        "num1=1.5\r\n",
        "num2=2.5\r\n",
        "mul=num1*num2\r\n",
        "print(\"multiplication of two numbers 1.5 and 2.5 :\",mul)"
      ],
      "execution_count": null,
      "outputs": [
        {
          "output_type": "stream",
          "text": [
            "multiplication of two numbers 1.5 and 2.5 : 3.75\n"
          ],
          "name": "stdout"
        }
      ]
    },
    {
      "cell_type": "code",
      "metadata": {
        "colab": {
          "base_uri": "https://localhost:8080/"
        },
        "id": "VWqmirjStuLR",
        "outputId": "6c543cf3-e652-44ee-8630-29690c420897"
      },
      "source": [
        "#4. Write a python function to divide two user input numbers\r\n",
        "def div(num1, num2):    \r\n",
        "  quotient = num1 / num2    \r\n",
        "  return quotient\r\n",
        "num1=float(input(\"Enter first number: \"))\r\n",
        "num2=float(input(\"Enter second number: \"))\r\n",
        "print(\"quotient :\",div(num1, num2))\r\n"
      ],
      "execution_count": null,
      "outputs": [
        {
          "output_type": "stream",
          "text": [
            "Enter first number: 3\n",
            "Enter second number: 2\n",
            "quotient : 1.5\n"
          ],
          "name": "stdout"
        }
      ]
    },
    {
      "cell_type": "code",
      "metadata": {
        "colab": {
          "base_uri": "https://localhost:8080/"
        },
        "id": "a04pNRDmtuWU",
        "outputId": "f26c50f9-2eb0-45a1-d22c-65dbc9ae6b87"
      },
      "source": [
        "\r\n",
        "#5. Write a python function to find modulo of two user input numbers\r\n",
        "def mod(num1, num2):    \r\n",
        "  rem = num1 - num2    \r\n",
        "  return rem\r\n",
        "num1=float(input(\"Enter first number: \"))\r\n",
        "num2=float(input(\"Enter second number: \"))\r\n",
        "print(\"remainde  :\",mod(num1, num2))\r\n"
      ],
      "execution_count": null,
      "outputs": [
        {
          "output_type": "stream",
          "text": [
            "Enter first number: 3\n",
            "Enter second number: 2\n",
            "remainde  : 1.0\n"
          ],
          "name": "stdout"
        }
      ]
    },
    {
      "cell_type": "code",
      "metadata": {
        "colab": {
          "base_uri": "https://localhost:8080/"
        },
        "id": "89pXUVPBjSi8",
        "outputId": "2871d0b0-e5a1-495e-e64c-15dfd097383f"
      },
      "source": [
        "#6. Write a python Program to print sum of two list\r\n",
        "list1=[\"a\",\"b\",\"c\",\"d\",\"e\"]\r\n",
        "list2=[1,2,3]\r\n",
        "sum_of_list=list1+list2\r\n",
        "print(\"sum of two lists :\",sum_of_list)"
      ],
      "execution_count": null,
      "outputs": [
        {
          "output_type": "stream",
          "text": [
            "sum of two lists : ['a', 'b', 'c', 'd', 'e', 1, 2, 3]\n"
          ],
          "name": "stdout"
        }
      ]
    },
    {
      "cell_type": "code",
      "metadata": {
        "colab": {
          "base_uri": "https://localhost:8080/"
        },
        "id": "zRdztmDQkOCa",
        "outputId": "0816d42e-5a5f-46ca-b6b6-7c4a39f7c070"
      },
      "source": [
        "#7.Write a python Program to append two list and print the results\r\n",
        "list1=[\"hii\",\"bye\",\"hi-fi\"]\r\n",
        "list2=[\"come\",\"go\",\"let go\"]\r\n",
        "for x in list2:\r\n",
        "  list1.append(x)\r\n",
        "print(\"list after appending :\",list1)\r\n"
      ],
      "execution_count": null,
      "outputs": [
        {
          "output_type": "stream",
          "text": [
            "list after appending : ['hii', 'bye', 'hi-fi', 'come', 'go', 'let go']\n"
          ],
          "name": "stdout"
        }
      ]
    },
    {
      "cell_type": "code",
      "metadata": {
        "colab": {
          "base_uri": "https://localhost:8080/"
        },
        "id": "ch5bDHNYmf0N",
        "outputId": "cd6996f8-8ce9-4370-b4d9-6ef87c9c4219"
      },
      "source": [
        "#8. Write a python Program to print taking by taking input from users\r\n",
        "list=[]\r\n",
        "n=int(input(\"Enter number of input elements:\"))\r\n",
        "for i in range (0,n):\r\n",
        "  element=input(\"Enter elemenet to list: \")\r\n",
        "  list.append(element)\r\n",
        "print(\"Final list is:\",list)\r\n"
      ],
      "execution_count": null,
      "outputs": [
        {
          "output_type": "stream",
          "text": [
            "Enter number of input elements:2\n",
            "Enter elemenet to list: hii\n",
            "Enter elemenet to list: deepi\n",
            "Final list is: ['hii', 'deepi']\n"
          ],
          "name": "stdout"
        }
      ]
    },
    {
      "cell_type": "code",
      "metadata": {
        "colab": {
          "base_uri": "https://localhost:8080/"
        },
        "id": "JkssJ2VRtRiP",
        "outputId": "063b82b2-796b-45eb-8af5-b92c9e91d40d"
      },
      "source": [
        "#9. Write a python Program to print after sorting the user defined list (both in ascending and descending order)\r\n",
        "list=[]\r\n",
        "n=int(input(\"Enter number of input elements:\"))\r\n",
        "for i in range(0,n):\r\n",
        "  element=input(\"Enter elemenet to list: \")\r\n",
        "  list.append(element)\r\n",
        "print(\"Final list is:\",list)\r\n",
        "list.sort()\r\n",
        "print(\"Sorted list is:\",list)\r\n",
        "list.sort(reverse=True)\r\n",
        "print(\"Reverse Sorted list is:\",list)\r\n",
        "\r\n"
      ],
      "execution_count": null,
      "outputs": [
        {
          "output_type": "stream",
          "text": [
            "Enter number of input elements:5\n",
            "Enter elemenet to list: 1\n",
            "Enter elemenet to list: qwe\n",
            "Enter elemenet to list: raj\n",
            "Enter elemenet to list: pinky\n",
            "Enter elemenet to list: 9\n",
            "Final list is: ['1', 'qwe', 'raj', 'pinky', '9']\n",
            "Sorted list is: ['1', '9', 'pinky', 'qwe', 'raj']\n",
            "Reverse Sorted list is: ['raj', 'qwe', 'pinky', '9', '1']\n"
          ],
          "name": "stdout"
        }
      ]
    },
    {
      "cell_type": "code",
      "metadata": {
        "colab": {
          "base_uri": "https://localhost:8080/"
        },
        "id": "kuNN-RPLxz98",
        "outputId": "f80022ca-36d2-425e-f0d1-0ee1b496a2e7"
      },
      "source": [
        "#10. Write a python Program to print if the element in list is int or string\r\n",
        "list = [1,2,\"abc\",\"xyz\",\"jungle book\"]\r\n",
        "for x in list:\r\n",
        "    if str(x) == x:\r\n",
        "    \tprint(x,\" is string\")\r\n",
        "        \r\n",
        "    elif int(x)==x:\r\n",
        "      print(x,\"is int\")\r\n",
        "\r\n",
        "    else:\r\n",
        "      print(\"invalid\")\r\n"
      ],
      "execution_count": null,
      "outputs": [
        {
          "output_type": "stream",
          "text": [
            "1 is int\n",
            "2 is int\n",
            "abc  is string\n",
            "xyz  is string\n",
            "jungle book  is string\n"
          ],
          "name": "stdout"
        }
      ]
    },
    {
      "cell_type": "code",
      "metadata": {
        "colab": {
          "base_uri": "https://localhost:8080/"
        },
        "id": "pDnAGwqVz7gU",
        "outputId": "a9259e66-9fb1-4d15-ffd7-a36599a45a54"
      },
      "source": [
        "#11.Write a python Program to print user input strings into list of tuples \r\n",
        "final_list = [] \r\n",
        "line = input(\"Enter the list of tuples:\\n\") \r\n",
        "while(line != ''): \r\n",
        "\tfinal_list.append(tuple(line.split())) \r\n",
        "\tline = input() \r\n",
        " \r\n",
        "print(final_list)"
      ],
      "execution_count": null,
      "outputs": [
        {
          "output_type": "stream",
          "text": [
            "Enter the list of tuples:\n",
            "hello\n",
            "people\n",
            "tom n jerry\n",
            "dora\n",
            "\n",
            "[('hello',), ('people',), ('tom', 'n', 'jerry'), ('dora',)]\n"
          ],
          "name": "stdout"
        }
      ]
    },
    {
      "cell_type": "code",
      "metadata": {
        "colab": {
          "base_uri": "https://localhost:8080/"
        },
        "id": "_vg4mQJo3jEl",
        "outputId": "cb0b2849-99f4-4af1-d809-2c3f7078a30d"
      },
      "source": [
        "#12. Write a python Program to print the elements in tuple\r\n",
        "tuple=(\"tom\",\"jerry\",\"doraemon\",\"nobita\")\r\n",
        "for i in range(len(tuple)):\r\n",
        "  print(tuple[i])"
      ],
      "execution_count": null,
      "outputs": [
        {
          "output_type": "stream",
          "text": [
            "tom\n",
            "jerry\n",
            "doraemon\n",
            "nobita\n"
          ],
          "name": "stdout"
        }
      ]
    },
    {
      "cell_type": "code",
      "metadata": {
        "colab": {
          "base_uri": "https://localhost:8080/"
        },
        "id": "MQMyR1Kh37mN",
        "outputId": "b3e134a5-0ccf-4953-fcdd-60a110cd9cb1"
      },
      "source": [
        "#13 Write a python Program to join two tuples and print results\r\n",
        "tup1=(\"abc\",\"xyz\")\r\n",
        "tup2=(\"hii\",\"hello\",\"bye\")\r\n",
        "tup=tup1+tup2\r\n",
        "print(\"tuple after joining: \",tup)"
      ],
      "execution_count": null,
      "outputs": [
        {
          "output_type": "stream",
          "text": [
            "tuple after joining:  ('abc', 'xyz', 'hii', 'hello', 'bye')\n"
          ],
          "name": "stdout"
        }
      ]
    },
    {
      "cell_type": "code",
      "metadata": {
        "colab": {
          "base_uri": "https://localhost:8080/"
        },
        "id": "ws89uRZD98Au",
        "outputId": "df56abac-6109-4704-fce3-035840a4f484"
      },
      "source": [
        "#14.Write a python Program to print repeating the elements inside tuple\r\n",
        "tup=(\"hii\",\"hello\",\"bye\")\r\n",
        "newtup=tup*2\r\n",
        "print(newtup)"
      ],
      "execution_count": null,
      "outputs": [
        {
          "output_type": "stream",
          "text": [
            "('hii', 'hello', 'bye', 'hii', 'hello', 'bye')\n"
          ],
          "name": "stdout"
        }
      ]
    },
    {
      "cell_type": "code",
      "metadata": {
        "colab": {
          "base_uri": "https://localhost:8080/"
        },
        "id": "txQ-B367-cB9",
        "outputId": "cb543d5d-9257-460b-ae83-c2991a7d8445"
      },
      "source": [
        "#15.Write a python Program to print elements using index variables\r\n",
        "tup=(\"hii\",\"hello\",\"bye\")\r\n",
        "\r\n",
        "(green, yellow, red) = tup\r\n",
        "\r\n",
        "print(green)\r\n",
        "print(yellow)\r\n",
        "print(red)"
      ],
      "execution_count": null,
      "outputs": [
        {
          "output_type": "stream",
          "text": [
            "hii\n",
            "hello\n",
            "bye\n"
          ],
          "name": "stdout"
        }
      ]
    },
    {
      "cell_type": "code",
      "metadata": {
        "colab": {
          "base_uri": "https://localhost:8080/"
        },
        "id": "22wV0rXE-yjZ",
        "outputId": "6688de3d-1140-4fb0-ad86-0cf57020957a"
      },
      "source": [
        "#16. Write a python Program to print largest number of 2  numbers\r\n",
        "num1=int(input(\"Enter first number: \"))\r\n",
        "num2=int(input(\"Enter second number: \"))\r\n",
        "if num1>num2:\r\n",
        "  print(num1,\"is greater\")\r\n",
        "else:\r\n",
        "  print(num2,\"is greater\")"
      ],
      "execution_count": null,
      "outputs": [
        {
          "output_type": "stream",
          "text": [
            "Enter first number: 23\n",
            "Enter second number: 12\n",
            "23 is greater\n"
          ],
          "name": "stdout"
        }
      ]
    },
    {
      "cell_type": "code",
      "metadata": {
        "colab": {
          "base_uri": "https://localhost:8080/"
        },
        "id": "F5rglJQS_TnK",
        "outputId": "b4fee3cf-5882-4777-e3ce-31e5ce18508f"
      },
      "source": [
        "#17. Write a python Program to print smallest of 3 numbers\r\n",
        "num1=int(input(\"Enter first number: \"))\r\n",
        "num2=int(input(\"Enter second number: \"))\r\n",
        "num3=int(input(\"Enter first number: \"))\r\n",
        "if num1<num2 and num1<num3:\r\n",
        "  print(num1,\"is smallest\")\r\n",
        "elif num2<num1 and num2<num3:\r\n",
        "  print(num2,\"is smallest\")\r\n",
        "else:\r\n",
        "  print(num3,\"is smallest\")\r\n"
      ],
      "execution_count": null,
      "outputs": [
        {
          "output_type": "stream",
          "text": [
            "Enter first number: 12\n",
            "Enter second number: 3\n",
            "Enter first number: 1\n",
            "1 is smallest\n"
          ],
          "name": "stdout"
        }
      ]
    },
    {
      "cell_type": "code",
      "metadata": {
        "colab": {
          "base_uri": "https://localhost:8080/"
        },
        "id": "HR9Yd1J2_1-p",
        "outputId": "1a6f2b44-ed05-42f7-e25f-e6fe6a06457a"
      },
      "source": [
        "#18. Write a python function to print if a string is palindrome\r\n",
        "def Palindrome(s):\r\n",
        "  return s==s[::-1]\r\n",
        "\r\n",
        "s=input(\"Enter a string: \")\r\n",
        "if Palindrome(s):\r\n",
        "  print(s,\"is palindrome\")\r\n",
        "else:\r\n",
        "  print(s,\"is not palindrome\")\r\n"
      ],
      "execution_count": null,
      "outputs": [
        {
          "output_type": "stream",
          "text": [
            "Enter a string: mam\n",
            "mam is palindrome\n"
          ],
          "name": "stdout"
        }
      ]
    },
    {
      "cell_type": "code",
      "metadata": {
        "colab": {
          "base_uri": "https://localhost:8080/"
        },
        "id": "0bLBvzbbBy-9",
        "outputId": "3a5f6e87-625f-4143-c669-597b723dd556"
      },
      "source": [
        "#19.Write a python function to print factorial of two numbers\r\n",
        "def factorial(n):\r\n",
        "  if n==1 or n==0:\r\n",
        "    return 1\r\n",
        "  else:\r\n",
        "    return n*factorial(n-1)\r\n",
        "n=int(input(\"Enter a number:\"))\r\n",
        "print(\"the given number is\",n,\"and factorial of it is\",factorial(n))\r\n"
      ],
      "execution_count": null,
      "outputs": [
        {
          "output_type": "stream",
          "text": [
            "Enter number a number:5\n",
            "the given number is 5 and factorial of it is 120\n"
          ],
          "name": "stdout"
        }
      ]
    },
    {
      "cell_type": "code",
      "metadata": {
        "colab": {
          "base_uri": "https://localhost:8080/"
        },
        "id": "mjZ1Mjs1D4ud",
        "outputId": "dcd4edc8-055f-47b1-ce6d-f806a63b1da3"
      },
      "source": [
        "#20. Write a python function to print simple interest \r\n",
        "def simpleIntrest(p,t,r):\r\n",
        "  return (p*t*r)/100\r\n",
        "p=int(input(\"Enter principle amount :\"))\r\n",
        "t=int(input(\"Enter time:\"))\r\n",
        "r=int(input(\"Enter rate of intrest:\"))\r\n",
        "print(\"simple intrest is: \",simpleIntrest(p,t,r))\r\n"
      ],
      "execution_count": null,
      "outputs": [
        {
          "output_type": "stream",
          "text": [
            "Enter principle amount :1000\n",
            "Enter time:2\n",
            "Enter rate of intrest:5\n",
            "simple intrest is:  100.0\n"
          ],
          "name": "stdout"
        }
      ]
    },
    {
      "cell_type": "code",
      "metadata": {
        "colab": {
          "base_uri": "https://localhost:8080/"
        },
        "id": "OK1p3THHUJwT",
        "outputId": "eaea2a0c-296a-4b8a-ce75-dd63bcc3f3ac"
      },
      "source": [
        "#21. Write a python function to print compound interest \r\n",
        "def compoundIntrest(p,t,r,n):\r\n",
        "  return (p*(1+(r/n))**(n*t))\r\n",
        "p=int(input(\"Enter initial principal balance :\"))\r\n",
        "t=int(input(\"Enter number of time periods elapsed:\"))\r\n",
        "r=int(input(\"Enter intrest rate:\"))\r\n",
        "n=int(input(\"Enter number of times interest applied per time period:\"))\r\n",
        "print(\"compound intrest is: \",compoundIntrest(p,t,r,n))\r\n"
      ],
      "execution_count": null,
      "outputs": [
        {
          "output_type": "stream",
          "text": [
            "Enter initial principal balance :1000\n",
            "Enter number of time periods elapsed:5\n",
            "Enter intrest rate:4\n",
            "Enter number of times interest applied per time period:3\n",
            "compound intrest is:  330865724.47246265\n"
          ],
          "name": "stdout"
        }
      ]
    },
    {
      "cell_type": "code",
      "metadata": {
        "colab": {
          "base_uri": "https://localhost:8080/"
        },
        "id": "orK6AoqwVo4j",
        "outputId": "c7713c48-ab61-43c4-9083-3c89901d831e"
      },
      "source": [
        "#22. Write a python function to print lcm of two numbers\r\n",
        "def lcm(x,y):\r\n",
        "  if x>y:\r\n",
        "    greater=x\r\n",
        "  else:\r\n",
        "    greater=y\r\n",
        "  while(True):\r\n",
        "    if greater%x==0 and greater%y==0:\r\n",
        "      lcm=greater\r\n",
        "      break\r\n",
        "    greater+=1\r\n",
        "  return lcm \r\n",
        "x=int(input(\"Enter first number: \"))\r\n",
        "y=int(input(\"Enter second number: \"))\r\n",
        "print(\"LCM of two numbers is: \",lcm(x,y))"
      ],
      "execution_count": null,
      "outputs": [
        {
          "output_type": "stream",
          "text": [
            "Enter first number: 5\n",
            "Enter second number: 8\n",
            "LCM of two numbers is:  40\n"
          ],
          "name": "stdout"
        }
      ]
    },
    {
      "cell_type": "code",
      "metadata": {
        "colab": {
          "base_uri": "https://localhost:8080/"
        },
        "id": "GcDdFjTnXh_4",
        "outputId": "210eb2c5-44c3-4dae-c85e-80037e816f91"
      },
      "source": [
        "#23. Write a python function to print hcf of two numbers\r\n",
        "def hcf(x,y):\r\n",
        "  if x<y:\r\n",
        "    smallest=x\r\n",
        "  else:\r\n",
        "    smallest=y\r\n",
        "  for i in range(1,smallest+1):\r\n",
        "    if x%i==0 and y%i==0:\r\n",
        "      hcf=i\r\n",
        "  return hcf\r\n",
        "x=int(input(\"Enter first number: \"))\r\n",
        "y=int(input(\"Enter second number: \"))\r\n",
        "print(\"HCF of two numbers is: \",hcf(x,y))"
      ],
      "execution_count": null,
      "outputs": [
        {
          "output_type": "stream",
          "text": [
            "Enter first number: 10\n",
            "Enter second number: 5\n",
            "HCF of two numbers is:  5\n"
          ],
          "name": "stdout"
        }
      ]
    },
    {
      "cell_type": "code",
      "metadata": {
        "colab": {
          "base_uri": "https://localhost:8080/"
        },
        "id": "hLIJzk1HZSBR",
        "outputId": "618ec759-6dc9-4f51-e008-4d2501ff151f"
      },
      "source": [
        "#24. Write a python Program to print if the year is leap year\r\n",
        "year=int(input(\"Enter year: \"))\r\n",
        "if(year%4)==0:\r\n",
        "  if(year%100)==0:\r\n",
        "    if(year%400)==0:\r\n",
        "      print(year,\"is a leap year\")\r\n",
        "    else:\r\n",
        "      print(year,\"is not a leap year\")\r\n",
        "  else:\r\n",
        "    print(year,\"is  a leap year\")\r\n",
        "else:\r\n",
        "  print(year,\"is not a leap year\")\r\n",
        "\r\n"
      ],
      "execution_count": null,
      "outputs": [
        {
          "output_type": "stream",
          "text": [
            "Enter year: 5\n",
            "5 is not a leap year\n"
          ],
          "name": "stdout"
        }
      ]
    },
    {
      "cell_type": "code",
      "metadata": {
        "colab": {
          "base_uri": "https://localhost:8080/"
        },
        "id": "Bruov-RuhXTd",
        "outputId": "3c276dd3-5d39-4a8f-c76d-380d173f3887"
      },
      "source": [
        "#25.Write a python Program to print areas of circle for given radius\r\n",
        "radius=[2,3,4,5]\r\n",
        "areas=[]\r\n",
        "for r in radius:\r\n",
        "  area=3.14*r*r\r\n",
        "  areas.append(area)\r\n",
        "print(\"List of areas of the given radius: \",areas)\r\n"
      ],
      "execution_count": null,
      "outputs": [
        {
          "output_type": "stream",
          "text": [
            "List of areas of the given radius:  [12.56, 28.259999999999998, 50.24, 78.5]\n"
          ],
          "name": "stdout"
        }
      ]
    },
    {
      "cell_type": "code",
      "metadata": {
        "colab": {
          "base_uri": "https://localhost:8080/"
        },
        "id": "OsWX4L3Mjq1e",
        "outputId": "85f3bc8d-9e29-4ccb-deb9-f6937ae01eba"
      },
      "source": [
        "#26. Write a python Program to print areas of square for given sides\r\n",
        "side=[]\r\n",
        "area=[]\r\n",
        "n=int(input(\"Enter number of input: \"))\r\n",
        "for i in range(1,n+1):\r\n",
        "  s=int(input(\"Enter side of square: \"))\r\n",
        "  side.append(s)\r\n",
        "print(\"sides:\",side)\r\n",
        "for s in side:\r\n",
        "  a=s*s\r\n",
        "  area.append(a)\r\n",
        "print(\"areas:\",area)\r\n",
        "\r\n",
        "  "
      ],
      "execution_count": null,
      "outputs": [
        {
          "output_type": "stream",
          "text": [
            "Enter number of input: 4\n",
            "Enter side of square: 2\n",
            "Enter side of square: 3\n",
            "Enter side of square: 4\n",
            "Enter side of square: 5\n",
            "sides: [2, 3, 4, 5]\n",
            "areas: [4, 9, 16, 25]\n"
          ],
          "name": "stdout"
        }
      ]
    },
    {
      "cell_type": "code",
      "metadata": {
        "colab": {
          "base_uri": "https://localhost:8080/"
        },
        "id": "PRcEP1l0nbi-",
        "outputId": "e766d2d6-c622-4988-9ebc-dfe7c93636e2"
      },
      "source": [
        "#27. Write a python Program to print dictionary\r\n",
        "dict={\r\n",
        "    \"name\":\"John\",\r\n",
        "    \"year\":1920,\r\n",
        "    \"Country\":\"India\"\r\n",
        "}\r\n",
        "print(dict)"
      ],
      "execution_count": null,
      "outputs": [
        {
          "output_type": "stream",
          "text": [
            "{'name': 'John', 'year': 1920, 'Country': 'India'}\n"
          ],
          "name": "stdout"
        }
      ]
    },
    {
      "cell_type": "code",
      "metadata": {
        "colab": {
          "base_uri": "https://localhost:8080/"
        },
        "id": "1Z5GJK_0pgFE",
        "outputId": "d5bc4c88-005f-40dc-b3cb-81f51907a6ff"
      },
      "source": [
        "#28. Write a python Program to print only keys of dictionary\r\n",
        "dict={\r\n",
        "    \"name\":\"John\",\r\n",
        "    \"year\":1920,\r\n",
        "    \"Country\":\"India\"\r\n",
        "}\r\n",
        "key=dict.keys()\r\n",
        "print(key)\r\n",
        "dict[\"Experience\"]=\"2 years\"\r\n",
        "print(key)"
      ],
      "execution_count": null,
      "outputs": [
        {
          "output_type": "stream",
          "text": [
            "dict_keys(['name', 'year', 'Country'])\n",
            "dict_keys(['name', 'year', 'Country', 'Experience'])\n"
          ],
          "name": "stdout"
        }
      ]
    },
    {
      "cell_type": "code",
      "metadata": {
        "colab": {
          "base_uri": "https://localhost:8080/"
        },
        "id": "rZdYRTmqrZFP",
        "outputId": "36a4833e-27e2-4e68-a54d-aa6f5fa1fd82"
      },
      "source": [
        "#29. Write a python Program to print only values of dictionary\r\n",
        "dict={\r\n",
        "    \"name\":\"John\",\r\n",
        "    \"year\":1920,\r\n",
        "    \"Country\":\"India\"\r\n",
        "}\r\n",
        "key=dict.values()\r\n",
        "print(key)\r\n",
        "dict[\"Experience\"]=\"2 years\"\r\n",
        "print(key)"
      ],
      "execution_count": null,
      "outputs": [
        {
          "output_type": "stream",
          "text": [
            "dict_values(['John', 1920, 'India'])\n",
            "dict_values(['John', 1920, 'India', '2 years'])\n"
          ],
          "name": "stdout"
        }
      ]
    },
    {
      "cell_type": "code",
      "metadata": {
        "id": "UtUTtBtChoJL"
      },
      "source": [
        "#30. Write a python Program to print type of object\r\n",
        "dict={\r\n",
        "    \"name\":\"John\",\r\n",
        "    \"year\":1920,\r\n",
        "    \"Country\":\"India\"\r\n",
        "}\r\n",
        "print(type(dict))"
      ],
      "execution_count": null,
      "outputs": []
    },
    {
      "cell_type": "code",
      "metadata": {
        "colab": {
          "base_uri": "https://localhost:8080/"
        },
        "id": "w_OLG0_Cughq",
        "outputId": "5a92804e-228a-4dbb-ab1e-fdab19bc5ae9"
      },
      "source": [
        "#31.Write a python program to print list of dictionary items\r\n",
        "dict={\r\n",
        "    \"name\":\"John\",\r\n",
        "    \"year\":1920,\r\n",
        "    \"Country\":\"India\",\r\n",
        "    \"role played\":[\"developer\",\"HR\"]\r\n",
        "}\r\n",
        "print(dict)"
      ],
      "execution_count": null,
      "outputs": [
        {
          "output_type": "stream",
          "text": [
            "{'name': 'John', 'year': 1920, 'Country': 'India', 'role played': ['developer', 'HR']}\n"
          ],
          "name": "stdout"
        }
      ]
    },
    {
      "cell_type": "code",
      "metadata": {
        "colab": {
          "base_uri": "https://localhost:8080/"
        },
        "id": "Wf1rWWRvvDp8",
        "outputId": "3252775a-7dd3-4ff8-8182-c3e1bf0782dc"
      },
      "source": [
        "#32. Write a python program to add data to dict by user end and print\r\n",
        "dict={}\r\n",
        "dict['key1'] = 'hello'\r\n",
        "dict['key2'] = 'world'\r\n",
        "print(\"Dict: \", dict) \r\n",
        "\r\n",
        "\r\n"
      ],
      "execution_count": null,
      "outputs": [
        {
          "output_type": "stream",
          "text": [
            "Dict:  {'key1': 'hello', 'key2': 'world'}\n"
          ],
          "name": "stdout"
        }
      ]
    },
    {
      "cell_type": "code",
      "metadata": {
        "colab": {
          "base_uri": "https://localhost:8080/"
        },
        "id": "DzNBWja6zlGT",
        "outputId": "da5a8972-2658-48d7-c26f-bad6b588b100"
      },
      "source": [
        "#33.Write a python program to print after slicing a string\r\n",
        "str=\"Have a great day\"\r\n",
        "print(\"sliced string: \",str[2:10])"
      ],
      "execution_count": null,
      "outputs": [
        {
          "output_type": "stream",
          "text": [
            "sliced string:  ve a gre\n"
          ],
          "name": "stdout"
        }
      ]
    },
    {
      "cell_type": "code",
      "metadata": {
        "colab": {
          "base_uri": "https://localhost:8080/"
        },
        "id": "lv6KI0Fd3JOV",
        "outputId": "4377adea-e58b-4b72-dfa6-6fddee4f4852"
      },
      "source": [
        "#34.Write a python program to print items in dict\r\n",
        "dict={\r\n",
        "    \"name\":\"John\",\r\n",
        "    \"year\":1920,\r\n",
        "    \"Country\":\"India\",\r\n",
        "    \"role played\":[\"developer\",\"HR\"]\r\n",
        "}\r\n",
        "for x, y in dict.items():\r\n",
        "  print(x, y)"
      ],
      "execution_count": null,
      "outputs": [
        {
          "output_type": "stream",
          "text": [
            "name John\n",
            "year 1920\n",
            "Country India\n",
            "role played ['developer', 'HR']\n"
          ],
          "name": "stdout"
        }
      ]
    },
    {
      "cell_type": "code",
      "metadata": {
        "colab": {
          "base_uri": "https://localhost:8080/"
        },
        "id": "2uXMkyHr7rLQ",
        "outputId": "54df5546-ea84-480f-bda3-ae2a99f36963"
      },
      "source": [
        "#35.Write a python program to print length of text\r\n",
        "text=\"\"\"In literary theory, a text is any object that can be \"read\", whether this object is a work of literature, a street sign, an arrangement of buildings on a city block, or styles of \r\n",
        "clothing. It is a coherent set of signs that transmits some kind of informative message.[1] This set of signs is considered in terms of the informative message's content, rather than in \r\n",
        "terms of its physical form or the medium in which it is represented.\r\n",
        "\r\n",
        "Within the field of literary criticism, \"text\" also refers to the original information content of a particular piece of writing; that is, the \"text\" of a work is that primal symbolic \r\n",
        "arrangement of letters as originally composed, apart from later alterations, deterioration, commentary, translations, paratext, etc. Therefore, when literary criticism is concerned with \r\n",
        "the determination of a \"text\", it is concerned with the distinguishing of the original information content from whatever has been added to or subtracted from that content as it appears in \r\n",
        "iven textual document (that is, a physical representation of text).\"\"\"\r\n",
        "print(\"Length of text is\",len(text))"
      ],
      "execution_count": null,
      "outputs": [
        {
          "output_type": "stream",
          "text": [
            "Length of text is 1064\n"
          ],
          "name": "stdout"
        }
      ]
    },
    {
      "cell_type": "code",
      "metadata": {
        "colab": {
          "base_uri": "https://localhost:8080/"
        },
        "id": "2FbOwQfrgyhN",
        "outputId": "362fb0ce-9bb8-4ade-fec5-1ceb47819101"
      },
      "source": [
        "#36.Write a python program to print text after splitting and reversing it\r\n",
        "text=\"Hello everyone have a great day\"\r\n",
        "print(\"the original string:\",str(text))\r\n",
        "res=\",\".join(reversed(text.split(\" \")))\r\n",
        "print(\"reversed string:\",str(res))\r\n",
        "\r\n",
        "\r\n"
      ],
      "execution_count": null,
      "outputs": [
        {
          "output_type": "stream",
          "text": [
            "the original string: Hello everyone have a great day\n",
            "reversed string: day,great,a,have,everyone,Hello\n"
          ],
          "name": "stdout"
        }
      ]
    },
    {
      "cell_type": "code",
      "metadata": {
        "colab": {
          "base_uri": "https://localhost:8080/"
        },
        "id": "91cqpjSIhT8-",
        "outputId": "c0e2fb52-11cb-4d09-a958-6bd1fe0b2b75"
      },
      "source": [
        "#37. Write a python program to print number of words in string\r\n",
        "text=\"Hello everyone have a great day\"\r\n",
        "print(\"the original string:\",str(text))\r\n",
        "res=(len(text.split(\" \")))\r\n",
        "print(\"length of string is\",res)"
      ],
      "execution_count": null,
      "outputs": [
        {
          "output_type": "stream",
          "text": [
            "the original string: Hello everyone have a great day\n",
            "length of string is 6\n"
          ],
          "name": "stdout"
        }
      ]
    },
    {
      "cell_type": "code",
      "metadata": {
        "colab": {
          "base_uri": "https://localhost:8080/"
        },
        "id": "J5VGhRPqr-Pa",
        "outputId": "ef4f5355-37c5-4508-edaf-e355cadbf2c1"
      },
      "source": [
        "#38. Write a python program to print number of letters\r\n",
        "text=\"Hello everyone have a great day\"\r\n",
        "print(\"length of text is:\",len(text))"
      ],
      "execution_count": null,
      "outputs": [
        {
          "output_type": "stream",
          "text": [
            "length of text is: 31\n"
          ],
          "name": "stdout"
        }
      ]
    },
    {
      "cell_type": "code",
      "metadata": {
        "id": "KOsAxrINtbjZ",
        "colab": {
          "base_uri": "https://localhost:8080/"
        },
        "outputId": "136cf95a-28e4-4a43-e6fb-3e1262e37794"
      },
      "source": [
        "#39. Write a python program to print after converting list to tuple\r\n",
        "weekdays = ['sun','mon','tue','wed','thu','fri','sat']\r\n",
        "listAsTuple = tuple(weekdays)\r\n",
        "print(listAsTuple)\r\n"
      ],
      "execution_count": null,
      "outputs": [
        {
          "output_type": "stream",
          "text": [
            "('sun', 'mon', 'tue', 'wed', 'thu', 'fri', 'sat')\n"
          ],
          "name": "stdout"
        }
      ]
    },
    {
      "cell_type": "code",
      "metadata": {
        "colab": {
          "base_uri": "https://localhost:8080/"
        },
        "id": "3C8lxQH7Np_S",
        "outputId": "92d43320-205e-45f1-ca94-57c2101e2a77"
      },
      "source": [
        "#40.Write a python program to print occurance of particular element in list\r\n",
        "weekdays = ['sun','mon','tue','wed','thu','fri','sun','mon','mon']\r\n",
        "print([[x,weekdays.count(x)]for x in weekdays])"
      ],
      "execution_count": null,
      "outputs": [
        {
          "output_type": "stream",
          "text": [
            "[['sun', 2], ['mon', 3], ['tue', 1], ['wed', 1], ['thu', 1], ['fri', 1], ['sun', 2], ['mon', 3], ['mon', 3]]\n"
          ],
          "name": "stdout"
        }
      ]
    },
    {
      "cell_type": "code",
      "metadata": {
        "colab": {
          "base_uri": "https://localhost:8080/"
        },
        "id": "1PFknuPhOMjF",
        "outputId": "e3a1f9e9-7d6a-4109-9d09-dd34313e2dbe"
      },
      "source": [
        "#41. Write a python program to print each list item only once\r\n",
        "weekdays = ['sun','mon','tue','wed','thu','fri','sun','mon','mon']\r\n",
        "print([[x,weekdays.count(x)]for x in set(weekdays)])"
      ],
      "execution_count": null,
      "outputs": [
        {
          "output_type": "stream",
          "text": [
            "[['sun', 2], ['wed', 1], ['thu', 1], ['fri', 1], ['tue', 1], ['mon', 3]]\n"
          ],
          "name": "stdout"
        }
      ]
    },
    {
      "cell_type": "code",
      "metadata": {
        "colab": {
          "base_uri": "https://localhost:8080/"
        },
        "id": "ZmZ6Tv9yOrdf",
        "outputId": "e57b3560-76d1-4d4e-b351-c45ded41b805"
      },
      "source": [
        "#42. Write a python program to print sum there is a matching string\r\n",
        "weekdays = ['sun','mon','tue','wed','thu','fri','sun','mon','mon']\r\n",
        "week=weekdays\r\n",
        "weeks=weekdays[:]\r\n",
        "week[0]=\"mon\"\r\n",
        "week[1]=\"tue\"\r\n",
        "sum=0\r\n",
        "for day in (weekdays,week,weeks):\r\n",
        "  if day[0]==\"mon\":\r\n",
        "    sum+=1\r\n",
        "  if day[1]==\"tue\":\r\n",
        "    sum+=1\r\n",
        "print(\"Final sum=\",sum)\r\n"
      ],
      "execution_count": null,
      "outputs": [
        {
          "output_type": "stream",
          "text": [
            "Final sum= 4\n"
          ],
          "name": "stdout"
        }
      ]
    },
    {
      "cell_type": "code",
      "metadata": {
        "colab": {
          "base_uri": "https://localhost:8080/"
        },
        "id": "sObCrUhpPkW8",
        "outputId": "6e427b64-3e85-485d-e5c4-1f9409e1af57"
      },
      "source": [
        "#43. Write a python program to print average of all numbers in list\r\n",
        "n=int(input(\"Enter the number of elements to be inserted: \"))\r\n",
        "a=[]\r\n",
        "sum=0\r\n",
        "for i in range(0,n):\r\n",
        "  elem=int(input(\"Enter element: \"))\r\n",
        "  a.append(elem)\r\n",
        "  sum=(sum+elem)\r\n",
        "avg=sum/n\r\n",
        "print(\"Average of elements in the list\",avg)"
      ],
      "execution_count": null,
      "outputs": [
        {
          "output_type": "stream",
          "text": [
            "Enter the number of elements to be inserted: 3\n",
            "Enter element: 1\n",
            "Enter element: 1\n",
            "Enter element: 1\n",
            "Average of elements in the list 1.0\n"
          ],
          "name": "stdout"
        }
      ]
    },
    {
      "cell_type": "code",
      "metadata": {
        "colab": {
          "base_uri": "https://localhost:8080/"
        },
        "id": "kfhXTWKuRM6B",
        "outputId": "e3df7ed1-afb8-4722-cccf-055c27b445e2"
      },
      "source": [
        "#44. Write a python program to print after reversing a number\r\n",
        "n=int(input(\"Enter the number to reverse: \"))\r\n",
        "rev=0\r\n",
        "while n>0:\r\n",
        "  dig=n%10\r\n",
        "  rev=rev*10+dig\r\n",
        "  n=n//10\r\n",
        "print(\"rev digit=\",rev)\r\n"
      ],
      "execution_count": null,
      "outputs": [
        {
          "output_type": "stream",
          "text": [
            "Enter the number to reverse: 532\n",
            "rev digit= 235\n"
          ],
          "name": "stdout"
        }
      ]
    },
    {
      "cell_type": "code",
      "metadata": {
        "colab": {
          "base_uri": "https://localhost:8080/"
        },
        "id": "d1ip8ktRTiJW",
        "outputId": "a97f5cfb-1794-4652-e49a-21ee26a4b52d"
      },
      "source": [
        "#45. Write a python program to print sum of all the digits in number\r\n",
        "n=int(input(\"Enter the number to add: \"))\r\n",
        "sum=0\r\n",
        "while n>0:\r\n",
        "  dig=n%10\r\n",
        "  sum=sum+dig\r\n",
        "  n=n//10\r\n",
        "print(\"sum of digit in a number=\",sum)\r\n"
      ],
      "execution_count": null,
      "outputs": [
        {
          "output_type": "stream",
          "text": [
            "Enter the number to add: 12\n",
            "sum of digit in a number= 3\n"
          ],
          "name": "stdout"
        }
      ]
    },
    {
      "cell_type": "code",
      "metadata": {
        "colab": {
          "base_uri": "https://localhost:8080/"
        },
        "id": "ENovSLcUT8Fm",
        "outputId": "bc1b8d8b-efe1-4648-8419-e0ed4db18800"
      },
      "source": [
        "#46. Write a python program to print if a number is palindrome\r\n",
        "n=int(input(\"Enter the number to check if it is palindrome: \"))\r\n",
        "num=n\r\n",
        "rev=0\r\n",
        "while n>0:\r\n",
        "  dig=n%10\r\n",
        "  rev=rev*10+dig\r\n",
        "  n=n//10\r\n",
        "\r\n",
        "if(rev==num):\r\n",
        "  print(num,\"is palindrome\")\r\n",
        "if(rev!=num):\r\n",
        "  print(num,\"is not palindrome\")"
      ],
      "execution_count": null,
      "outputs": [
        {
          "output_type": "stream",
          "text": [
            "Enter the number to check if it is palindrome: 12334455443321\n",
            "12334455443321 is palindrome\n"
          ],
          "name": "stdout"
        }
      ]
    },
    {
      "cell_type": "code",
      "metadata": {
        "colab": {
          "base_uri": "https://localhost:8080/"
        },
        "id": "UrMq-Z5LUlZl",
        "outputId": "080a0f00-e1bb-44c0-d56b-0dc023cb6c4f"
      },
      "source": [
        "#47 Write a python program to print number of digits in a number\r\n",
        "n=int(input(\"Enter the number : \"))\r\n",
        "count=0\r\n",
        "while n>0:\r\n",
        "  count=count+1\r\n",
        "  n=n//10\r\n",
        "print(\"number of digits in a num=\",count)\r\n"
      ],
      "execution_count": null,
      "outputs": [
        {
          "output_type": "stream",
          "text": [
            "Enter the number : 12\n",
            "number of digits in a num= 2\n"
          ],
          "name": "stdout"
        }
      ]
    },
    {
      "cell_type": "code",
      "metadata": {
        "colab": {
          "base_uri": "https://localhost:8080/"
        },
        "id": "Sl329sGxVSRp",
        "outputId": "e1e52f7f-c07a-4cd5-e4e0-1dbfc717b9e5"
      },
      "source": [
        "#48. Write a python program to print tables of any number\r\n",
        "n=int(input(\"Enter the number : \"))\r\n",
        "for i in range (1,11):\r\n",
        "  print(n,\"x\",i,\"=\",n*i)"
      ],
      "execution_count": null,
      "outputs": [
        {
          "output_type": "stream",
          "text": [
            "Enter the number : 3\n",
            "3 x 1 = 3\n",
            "3 x 2 = 6\n",
            "3 x 3 = 9\n",
            "3 x 4 = 12\n",
            "3 x 5 = 15\n",
            "3 x 6 = 18\n",
            "3 x 7 = 21\n",
            "3 x 8 = 24\n",
            "3 x 9 = 27\n",
            "3 x 10 = 30\n"
          ],
          "name": "stdout"
        }
      ]
    },
    {
      "cell_type": "code",
      "metadata": {
        "colab": {
          "base_uri": "https://localhost:8080/"
        },
        "id": "9EgRrGJjV_hv",
        "outputId": "0ef0dfc1-d168-4736-af3b-ce1bde8331b1"
      },
      "source": [
        "#49. Write a python program to print if the number is prime\r\n",
        "n=int(input(\"Enter the number : \"))\r\n",
        "k=0\r\n",
        "for i in range(2,(n//2)+1):\r\n",
        "  if n%i==0:\r\n",
        "    k=k+1\r\n",
        "if n==0 or n==1:\r\n",
        "  print(n,\"is not a prime number\")\r\n",
        "elif k==0:\r\n",
        "  print(n,\"is prime number\")\r\n",
        "else:\r\n",
        "  print(n,\"is not a prime number\")\r\n"
      ],
      "execution_count": null,
      "outputs": [
        {
          "output_type": "stream",
          "text": [
            "Enter the number : 1\n",
            "1 is not a prime number\n"
          ],
          "name": "stdout"
        }
      ]
    },
    {
      "cell_type": "code",
      "metadata": {
        "colab": {
          "base_uri": "https://localhost:8080/"
        },
        "id": "oBY0f0DIX8_N",
        "outputId": "b0d7c27c-be7c-4035-d0cb-d6f5e91cba7f"
      },
      "source": [
        "#50. Write a python program to print to swap first and last elements of list\r\n",
        "list=[]\r\n",
        "n=int(input(\"Enter number of input: \"))\r\n",
        "for i in range(1,n+1):\r\n",
        "  s=int(input(\"Enter a number: \"))\r\n",
        "  list.append(s)\r\n",
        "print(\"element in list are:\",list)\r\n",
        "temp=list[0]\r\n",
        "list[0]=list[n-1]\r\n",
        "list[n-1]=temp\r\n",
        "print(\"element in list after swapping 1st and last numb are:\",list)"
      ],
      "execution_count": null,
      "outputs": [
        {
          "output_type": "stream",
          "text": [
            "Enter number of input: 5\n",
            "Enter a number: 1\n",
            "Enter a number: 2\n",
            "Enter a number: 3\n",
            "Enter a number: 4\n",
            "Enter a number: 5\n",
            "element in list are: [1, 2, 3, 4, 5]\n",
            "element in list after swapping 1st and last numb are: [5, 2, 3, 4, 1]\n"
          ],
          "name": "stdout"
        }
      ]
    },
    {
      "cell_type": "code",
      "metadata": {
        "colab": {
          "base_uri": "https://localhost:8080/"
        },
        "id": "C7UJ0TwNZrgi",
        "outputId": "2b5d111b-41e6-430d-dbbe-707a27475bae"
      },
      "source": [
        "#51. to count number of vowels in string\r\n",
        "string=input(\"Enter string:\")\r\n",
        "vowels=0\r\n",
        "string.lower()\r\n",
        "for i in string:\r\n",
        "  if i=='a' or i=='e' or i=='i' or i=='o' or i=='u':\r\n",
        "    vowels+=1\r\n",
        "print(\"number of vowels=\",vowels)\r\n"
      ],
      "execution_count": null,
      "outputs": [
        {
          "output_type": "stream",
          "text": [
            "Enter string:hello world\n",
            "number of vowels= 3\n"
          ],
          "name": "stdout"
        }
      ]
    },
    {
      "cell_type": "code",
      "metadata": {
        "colab": {
          "base_uri": "https://localhost:8080/"
        },
        "id": "Gkj6AKsrbEK_",
        "outputId": "b5d427c6-6d7f-4443-c6ef-1e7402ec251c"
      },
      "source": [
        "#52. to compare two strings\r\n",
        "string1=input(\"Enter first string:\")\r\n",
        "string2=input(\"Enter second string:\")\r\n",
        "string=(set(string1)&set(string2))\r\n",
        "print(\"common characters are:\")\r\n",
        "for i in string:\r\n",
        "  print(i)"
      ],
      "execution_count": null,
      "outputs": [
        {
          "output_type": "stream",
          "text": [
            "Enter first string:hey\n",
            "Enter second string:yey\n",
            "common characters are:\n",
            "y\n",
            "e\n"
          ],
          "name": "stdout"
        }
      ]
    },
    {
      "cell_type": "code",
      "metadata": {
        "colab": {
          "base_uri": "https://localhost:8080/"
        },
        "id": "A51dyBhfczzx",
        "outputId": "6ecbbb6f-9ef9-405e-ab9e-74200063dd6f"
      },
      "source": [
        "#53. sorting elements in list using selection sort\r\n",
        "list=[]\r\n",
        "\r\n",
        "\r\n",
        "n=int(input(\"Enter number of input: \"))\r\n",
        "for i in range(1,n+1):\r\n",
        "  s=int(input(\"Enter a number: \"))\r\n",
        "  list.append(s)\r\n",
        "print(\"element in list are:\",list)\r\n",
        "\r\n",
        "for i in range(len(list)):\r\n",
        "  sm_index=i\r\n",
        "  for j in range(i+1,len(list)):\r\n",
        "    if list[sm_index]<list[j]:\r\n",
        "      sm_index=j\r\n",
        "  list[i],list[sm_index]=list[sm_index],list[i]\r\n",
        "print(\"sorted array:\")\r\n",
        "for i in range(len(list)):\r\n",
        "  print(list[i])\r\n"
      ],
      "execution_count": null,
      "outputs": [
        {
          "output_type": "stream",
          "text": [
            "Enter number of input: 5\n",
            "Enter a number: 1\n",
            "Enter a number: 7\n",
            "Enter a number: 3\n",
            "Enter a number: 5\n",
            "Enter a number: 2\n",
            "element in list are: [1, 7, 3, 5, 2]\n",
            "sorted array:\n",
            "7\n",
            "5\n",
            "3\n",
            "2\n",
            "1\n"
          ],
          "name": "stdout"
        }
      ]
    },
    {
      "cell_type": "code",
      "metadata": {
        "colab": {
          "base_uri": "https://localhost:8080/"
        },
        "id": "gnpbo8nnhCEs",
        "outputId": "87c00bef-3b04-4ea1-dd9e-e7fc4fac2260"
      },
      "source": [
        "#54. replacing numbers with strings based on some condition\r\n",
        "list=[]\r\n",
        "n=int(input(\"Enter number of input: \"))\r\n",
        "for i in range(1,n+1):\r\n",
        "  s=int(input(\"Enter a number: \"))\r\n",
        "  list.append(s)\r\n",
        "print(\"element in list are:\",list)\r\n",
        "for i in range(len(list)):\r\n",
        "  if list[i]%5==0:\r\n",
        "    list[i]=\"perfect\"\r\n",
        "  elif list[i]%3==0 and list[i]%6==0:\r\n",
        "    list[i]=\"ok\"\r\n",
        "  \r\n",
        "\r\n",
        "print(\"element in list after replacing are:\",list)"
      ],
      "execution_count": null,
      "outputs": [
        {
          "output_type": "stream",
          "text": [
            "Enter number of input: 6\n",
            "Enter a number: 2\n",
            "Enter a number: 3\n",
            "Enter a number: 4\n",
            "Enter a number: 5\n",
            "Enter a number: 6\n",
            "Enter a number: 7\n",
            "element in list are: [2, 3, 4, 5, 6, 7]\n",
            "element in list after replacing are: [2, 3, 4, 'perfect', 'ok', 7]\n"
          ],
          "name": "stdout"
        }
      ]
    },
    {
      "cell_type": "code",
      "metadata": {
        "colab": {
          "base_uri": "https://localhost:8080/"
        },
        "id": "R4hcmAtLjI7n",
        "outputId": "fc5f2e44-e486-4536-8c2e-7d92dfa05038"
      },
      "source": [
        "#55. changing index number in list using enumerate\r\n",
        "list=[]\r\n",
        "n=int(input(\"Enter number of input: \"))\r\n",
        "for i in range(1,n+1):\r\n",
        "  s=int(input(\"Enter a number: \"))\r\n",
        "  list.append(s)\r\n",
        "print(\"element in list are:\",list)\r\n",
        "for i,num in enumerate(list, start=52):\r\n",
        "  print(i,num)"
      ],
      "execution_count": null,
      "outputs": [
        {
          "output_type": "stream",
          "text": [
            "Enter number of input: 5\n",
            "Enter a number: 2\n",
            "Enter a number: 3\n",
            "Enter a number: 4\n",
            "Enter a number: 5\n",
            "Enter a number: 6\n",
            "element in list are: [2, 3, 4, 5, 6]\n",
            "52 2\n",
            "53 3\n",
            "54 4\n",
            "55 5\n",
            "56 6\n"
          ],
          "name": "stdout"
        }
      ]
    },
    {
      "cell_type": "code",
      "metadata": {
        "colab": {
          "base_uri": "https://localhost:8080/"
        },
        "id": "teHhg0pBlicL",
        "outputId": "2dfd43d2-e727-4f78-a42a-55bce52d4efc"
      },
      "source": [
        "#56. check if the number in list is odd or even\r\n",
        "list=[2,3,4,5,6,7,8]\r\n",
        "for i in list:\r\n",
        "  if i%2==0:\r\n",
        "    print(i,\"is even\")\r\n",
        "  else:\r\n",
        "    print(i,\"is odd\")"
      ],
      "execution_count": null,
      "outputs": [
        {
          "output_type": "stream",
          "text": [
            "2 is even\n",
            "3 is odd\n",
            "4 is even\n",
            "5 is odd\n",
            "6 is even\n",
            "7 is odd\n",
            "8 is even\n"
          ],
          "name": "stdout"
        }
      ]
    },
    {
      "cell_type": "code",
      "metadata": {
        "colab": {
          "base_uri": "https://localhost:8080/"
        },
        "id": "jYwppWmxmzHa",
        "outputId": "710a67fd-645e-468f-ee2b-7ce79bfe934a"
      },
      "source": [
        "#57. linear search\r\n",
        "list=[]\r\n",
        "n=int(input(\"enter number of elements:\"))\r\n",
        "for i in range(0,n):\r\n",
        "  a=int(input(\"enter a number:\"))\r\n",
        "  list.append(a)\r\n",
        "k=int(input(\"enter key:\"))\r\n",
        "for i in range(len(list)):\r\n",
        "  if list[i]==k:\r\n",
        "    print(k,\"fount at\",i,\"position\")\r\n",
        "    break;\r\n",
        "  else:\r\n",
        "    print(k,\"not found\")\r\n",
        "\r\n"
      ],
      "execution_count": null,
      "outputs": [
        {
          "output_type": "stream",
          "text": [
            "enter number of elements:4\n",
            "enter a number:2\n",
            "enter a number:4\n",
            "enter a number:22\n",
            "enter a number:5\n",
            "enter key:22\n",
            "22 not found\n",
            "22 not found\n",
            "22 fount at 2 position\n"
          ],
          "name": "stdout"
        }
      ]
    },
    {
      "cell_type": "code",
      "metadata": {
        "id": "1OPl-_TBo4N3",
        "colab": {
          "base_uri": "https://localhost:8080/"
        },
        "outputId": "bcbfa66f-786a-4169-eb07-f430a4c632a4"
      },
      "source": [
        "#58. Desimal to binary\r\n",
        "def DecimalToBinary(num):\r\n",
        "  if num>1:\r\n",
        "    DecimalToBinary(num//2)\r\n",
        "  print(num%2,end=\"\")\r\n",
        "number = int(input(\"Enter any decimal number: \"))\r\n",
        "DecimalToBinary(number)\r\n",
        "\r\n",
        "\r\n",
        "   \r\n",
        "\r\n"
      ],
      "execution_count": null,
      "outputs": [
        {
          "output_type": "stream",
          "text": [
            "Enter any decimal number: 2\n",
            "10"
          ],
          "name": "stdout"
        }
      ]
    },
    {
      "cell_type": "code",
      "metadata": {
        "id": "MIJKxqd5p1WU",
        "colab": {
          "base_uri": "https://localhost:8080/"
        },
        "outputId": "fb563ebc-65d0-4d82-a558-1b77e066c18b"
      },
      "source": [
        "#59. Adding two binary number\r\n",
        "num1='00001'\r\n",
        "num2='11111'\r\n",
        "sum = bin(int(num1,2) + int(num2,2))\r\n",
        "print(sum)\r\n"
      ],
      "execution_count": null,
      "outputs": [
        {
          "output_type": "stream",
          "text": [
            "0b100000\n"
          ],
          "name": "stdout"
        }
      ]
    },
    {
      "cell_type": "code",
      "metadata": {
        "colab": {
          "base_uri": "https://localhost:8080/"
        },
        "id": "fOI0CmGW1139",
        "outputId": "43c97dea-309c-4e9d-898d-723ec4c8c96e"
      },
      "source": [
        "#60. program to check if number is positive negative or zero\r\n",
        "number = int(input(\"Enter number: \"))\r\n",
        "if number < 0: \r\n",
        "  print(\"The entered number is negative.\") \r\n",
        "elif number > 0:\r\n",
        "  print(\"The entered number is positive.\")\r\n",
        "elif number == 0:\r\n",
        "  print(\"Number is zero.\")\r\n",
        "else:\r\n",
        "  print(\"The input is not a number\")"
      ],
      "execution_count": null,
      "outputs": [
        {
          "output_type": "stream",
          "text": [
            "Enter number: 545\n",
            "The entered number is positive.\n"
          ],
          "name": "stdout"
        }
      ]
    },
    {
      "cell_type": "code",
      "metadata": {
        "colab": {
          "base_uri": "https://localhost:8080/"
        },
        "id": "fmyXA8wD2PAa",
        "outputId": "e17bbbd1-fe88-4993-a203-21d8134ae57e"
      },
      "source": [
        "#61. Adding two matrices\r\n",
        "M1 = [[1, 1, 1],\r\n",
        "      [1, 1, 1],\r\n",
        "      [1, 1, 1]]\r\n",
        "M2 = [[1, 2, 3],\r\n",
        "      [4, 5, 6],\r\n",
        "      [7, 8, 9]]\r\n",
        "\r\n",
        "sum = [[0, 0, 0],\r\n",
        "       [0, 0, 0],\r\n",
        "       [0, 0, 0]]\r\n",
        "\r\n",
        "for i in range(len(M1)):\r\n",
        "    for j in range(len(M1[0])):\r\n",
        "        sum[i][j] = M1[i][j] + M2[i][j]\r\n",
        "\r\n",
        "\r\n",
        "for num in sum:\r\n",
        "    print(num)"
      ],
      "execution_count": null,
      "outputs": [
        {
          "output_type": "stream",
          "text": [
            "[2, 3, 4]\n",
            "[5, 6, 7]\n",
            "[8, 9, 10]\n"
          ],
          "name": "stdout"
        }
      ]
    },
    {
      "cell_type": "code",
      "metadata": {
        "colab": {
          "base_uri": "https://localhost:8080/"
        },
        "id": "NGLzlZA7206_",
        "outputId": "480b2c2f-6838-4f78-cfba-114ea609d8b2"
      },
      "source": [
        "#62. To check if the number is alphabets\r\n",
        "ch = input(\"Enter a character: \")\r\n",
        "if((ch>='a' and ch<= 'z') or (ch>='A' and ch<='Z')):\r\n",
        "    print(ch, \"is an Alphabet\")\r\n",
        "else:\r\n",
        "    print(ch, \"is not an Alphabet\")"
      ],
      "execution_count": null,
      "outputs": [
        {
          "output_type": "stream",
          "text": [
            "Enter a character: 444\n",
            "444 is not an Alphabet\n"
          ],
          "name": "stdout"
        }
      ]
    },
    {
      "cell_type": "code",
      "metadata": {
        "id": "43mopCOi3GXz",
        "colab": {
          "base_uri": "https://localhost:8080/"
        },
        "outputId": "e4e4ce01-6180-469f-f997-48871e27582d"
      },
      "source": [
        "#63. swapping two elements without using temp variable\r\n",
        "a=int(input(\"enter first number:\"))\r\n",
        "b=int(input(\"enter second number:\"))\r\n",
        "a=a+b\r\n",
        "b=a-b\r\n",
        "a=a-b\r\n",
        "print(\"Elements after swapping: a=\",a,\"b=\",b)"
      ],
      "execution_count": null,
      "outputs": [
        {
          "output_type": "stream",
          "text": [
            "enter first number:6\n",
            "enter second number:009\n",
            "Elements after swapping: a= 9 b= 6\n"
          ],
          "name": "stdout"
        }
      ]
    },
    {
      "cell_type": "code",
      "metadata": {
        "colab": {
          "base_uri": "https://localhost:8080/"
        },
        "id": "FsoIg2-X7nGl",
        "outputId": "c60fef12-9b90-43ab-9c68-8c35e30df580"
      },
      "source": [
        "#64. taking 5 subjects marks and displaying the grade\r\n",
        "sub1=int(input(\"Enter marks of the first subject for 100: \"))\r\n",
        "sub2=int(input(\"Enter marks of the second subject for 100: \"))\r\n",
        "sub3=int(input(\"Enter marks of the third subject for 100: \"))\r\n",
        "sub4=int(input(\"Enter marks of the fourth subject for 100: \"))\r\n",
        "sub5=int(input(\"Enter marks of the fifth subject for 100: \"))\r\n",
        "avg=int((sub1+sub2+sub3+sub4+sub4)/5)\r\n",
        "if(avg>=90):\r\n",
        "    print(\"Grade: A\")\r\n",
        "elif(avg>=80&avg<90):\r\n",
        "    print(\"Grade: B\")\r\n",
        "elif(avg>=70&avg<80):\r\n",
        "    print(\"Grade: C\")\r\n",
        "elif(avg>=60&avg<70):\r\n",
        "    print(\"Grade: D\")\r\n",
        "else:\r\n",
        "    print(\"Grade: F\")"
      ],
      "execution_count": null,
      "outputs": [
        {
          "output_type": "stream",
          "text": [
            "Enter marks of the first subject for 100: 45\n",
            "Enter marks of the second subject for 100: 88\n",
            "Enter marks of the third subject for 100: 92\n",
            "Enter marks of the fourth subject for 100: 66\n",
            "Enter marks of the fifth subject for 100: 89\n",
            "Grade: B\n"
          ],
          "name": "stdout"
        }
      ]
    },
    {
      "cell_type": "code",
      "metadata": {
        "colab": {
          "base_uri": "https://localhost:8080/"
        },
        "id": "cLht3KKY8QGj",
        "outputId": "a3e3ec64-0665-4c19-ee73-95cf9ea6897c"
      },
      "source": [
        "#65. Count and printing all the odd numbers wihin the given range\r\n",
        "lower=int(input(\"Enter the lower limit for the range:\"))\r\n",
        "upper=int(input(\"Enter the upper limit for the range:\"))\r\n",
        "count=0\r\n",
        "for i in range(lower,upper+1):\r\n",
        "  if i%2!=0:\r\n",
        "    count+=1\r\n",
        "    print(i)\r\n",
        "print(\"number of odd numbers in range are:\",count)"
      ],
      "execution_count": null,
      "outputs": [
        {
          "output_type": "stream",
          "text": [
            "Enter the lower limit for the range:4\n",
            "Enter the upper limit for the range:100\n",
            "5\n",
            "7\n",
            "9\n",
            "11\n",
            "13\n",
            "15\n",
            "17\n",
            "19\n",
            "21\n",
            "23\n",
            "25\n",
            "27\n",
            "29\n",
            "31\n",
            "33\n",
            "35\n",
            "37\n",
            "39\n",
            "41\n",
            "43\n",
            "45\n",
            "47\n",
            "49\n",
            "51\n",
            "53\n",
            "55\n",
            "57\n",
            "59\n",
            "61\n",
            "63\n",
            "65\n",
            "67\n",
            "69\n",
            "71\n",
            "73\n",
            "75\n",
            "77\n",
            "79\n",
            "81\n",
            "83\n",
            "85\n",
            "87\n",
            "89\n",
            "91\n",
            "93\n",
            "95\n",
            "97\n",
            "99\n",
            "number of odd numbers in range are: 48\n"
          ],
          "name": "stdout"
        }
      ]
    },
    {
      "cell_type": "code",
      "metadata": {
        "colab": {
          "base_uri": "https://localhost:8080/"
        },
        "id": "XFnPg0169b87",
        "outputId": "93c0dae1-103e-4eab-b950-5ea7458ff443"
      },
      "source": [
        "#66.counting and printing all the numbers which are not divisible by 3 in given range\r\n",
        "lower=int(input(\"Enter the lower limit for the range:\"))\r\n",
        "upper=int(input(\"Enter the upper limit for the range:\"))\r\n",
        "count=0\r\n",
        "for i in range(lower,upper+1):\r\n",
        "  if i%2!=0 or i%3!=0:\r\n",
        "    count+=1\r\n",
        "    print(i)\r\n",
        "print(\"numbers in range which are not divisible by 2 or 3 are:\",count)\r\n"
      ],
      "execution_count": null,
      "outputs": [
        {
          "output_type": "stream",
          "text": [
            "Enter the lower limit for the range:5\n",
            "Enter the upper limit for the range:10\n",
            "5\n",
            "7\n",
            "8\n",
            "9\n",
            "10\n",
            "numbers in range which are not divisible by 2 and 3 both  are: 5\n"
          ],
          "name": "stdout"
        }
      ]
    },
    {
      "cell_type": "code",
      "metadata": {
        "id": "7tr41Q4i-HSU",
        "colab": {
          "base_uri": "https://localhost:8080/"
        },
        "outputId": "ac60d19e-b5df-4af8-f502-dfd3c1897681"
      },
      "source": [
        "#67. printing stars in inverted star pattern\r\n",
        "n=int(input(\"Enter number of rows: \"))\r\n",
        "for i in range (n,0,-1):\r\n",
        "    print((n-i) * ' ' + i * '*')"
      ],
      "execution_count": null,
      "outputs": [
        {
          "output_type": "stream",
          "text": [
            "Enter number of rows: 5\n",
            "*****\n",
            " ****\n",
            "  ***\n",
            "   **\n",
            "    *\n"
          ],
          "name": "stdout"
        }
      ]
    },
    {
      "cell_type": "code",
      "metadata": {
        "colab": {
          "base_uri": "https://localhost:8080/"
        },
        "id": "FzuH7AUox-ft",
        "outputId": "479d6ae3-1a20-4e1a-f9af-c5507d186549"
      },
      "source": [
        "#68. natural number summation pattern\r\n",
        "n=int(input(\"Enter a number: \"))\r\n",
        "for j in range(1,n+1):\r\n",
        "    a=[]\r\n",
        "    for i in range(1,j+1):\r\n",
        "        print(i,sep=\" \",end=\" \")\r\n",
        "        if(i<j):\r\n",
        "            print(\"+\",sep=\" \",end=\" \")\r\n",
        "        a.append(i)\r\n",
        "    print(\"=\",sum(a))\r\n",
        " \r\n",
        "print()"
      ],
      "execution_count": null,
      "outputs": [
        {
          "output_type": "stream",
          "text": [
            "Enter a number: 4\n",
            "1 = 1\n",
            "1 + 2 = 3\n",
            "1 + 2 + 3 = 6\n",
            "1 + 2 + 3 + 4 = 10\n",
            "\n"
          ],
          "name": "stdout"
        }
      ]
    },
    {
      "cell_type": "code",
      "metadata": {
        "colab": {
          "base_uri": "https://localhost:8080/"
        },
        "id": "1V83Q2Wzy9C2",
        "outputId": "85fa4036-f9b7-4921-d4f1-b1a424eb6318"
      },
      "source": [
        "#69. Combining all elements in list as string\r\n",
        "list = ['Can', 'I', 'go']\r\n",
        "print(type(list))\r\n",
        " \r\n",
        "str = ''.join(list)\r\n",
        "print(type(str))\r\n",
        "print(str)"
      ],
      "execution_count": null,
      "outputs": [
        {
          "output_type": "stream",
          "text": [
            "<class 'list'>\n",
            "<class 'str'>\n",
            "CanIgo\n"
          ],
          "name": "stdout"
        }
      ]
    },
    {
      "cell_type": "code",
      "metadata": {
        "colab": {
          "base_uri": "https://localhost:8080/"
        },
        "id": "bZpUQdjP1Qxy",
        "outputId": "2f9f6b15-65fd-4efd-9574-4033beef91f8"
      },
      "source": [
        "#70. to check if the string with starts with particular word\r\n",
        "str=\"Hello people.\"\r\n",
        "str1=\"Hello Karan, hope you are doing well.\"\r\n",
        "str2=\"Great!\"\r\n",
        "result = str.startswith(\"Hello\")\r\n",
        "result1 = str1.startswith(\"Hello\")\r\n",
        "result2 = str2.startswith(\"Hello\")\r\n",
        "print(result)\r\n",
        "print(result1)\r\n",
        "print(result2)"
      ],
      "execution_count": null,
      "outputs": [
        {
          "output_type": "stream",
          "text": [
            "True\n",
            "True\n",
            "False\n"
          ],
          "name": "stdout"
        }
      ]
    },
    {
      "cell_type": "code",
      "metadata": {
        "colab": {
          "base_uri": "https://localhost:8080/"
        },
        "id": "R8XI8fb62OHN",
        "outputId": "ea23ecc9-9b21-4b2f-c53e-ad2eea94dfdb"
      },
      "source": [
        "#71. Combining 2 strings by taking alternate characters\r\n",
        "str1 = \"Great\"\r\n",
        "str2 = \"Day\"\r\n",
        "comb = \"\".join(i + j for i, j in zip(str1, str2))\r\n",
        "print(\"Combined String:\", comb)"
      ],
      "execution_count": null,
      "outputs": [
        {
          "output_type": "stream",
          "text": [
            "Combined String: GDraey\n"
          ],
          "name": "stdout"
        }
      ]
    },
    {
      "cell_type": "code",
      "metadata": {
        "colab": {
          "base_uri": "https://localhost:8080/"
        },
        "id": "h4MCHVtN2wYM",
        "outputId": "27e76692-5962-43de-f3b8-788e411750cc"
      },
      "source": [
        "#72. To find max in list\r\n",
        "def max_list( list ):\r\n",
        "    max = list[ 0 ]\r\n",
        "    for a in list:\r\n",
        "        if a > max:\r\n",
        "            max = a\r\n",
        "    return max\r\n",
        "print(max_list([2,11,22,55]))"
      ],
      "execution_count": null,
      "outputs": [
        {
          "output_type": "stream",
          "text": [
            "55\n"
          ],
          "name": "stdout"
        }
      ]
    },
    {
      "cell_type": "code",
      "metadata": {
        "colab": {
          "base_uri": "https://localhost:8080/"
        },
        "id": "pxGMPFOU3VQT",
        "outputId": "f54f7eea-356d-4926-ce57-bdbda14467fb"
      },
      "source": [
        "#73. Sorting elements in a list in increasing order w.r.t last element of tuple\r\n",
        "def end(n): \r\n",
        "  return n[-1]\r\n",
        "\r\n",
        "def sort_list(tuples):\r\n",
        "  return sorted(tuples, key=end)\r\n",
        "\r\n",
        "print(sort_list([(2, 5), (1, 2), (4, 4), (2, 3), (2, 1)]))\r\n"
      ],
      "execution_count": null,
      "outputs": [
        {
          "output_type": "stream",
          "text": [
            "[(2, 1), (1, 2), (2, 3), (4, 4), (2, 5)]\n"
          ],
          "name": "stdout"
        }
      ]
    },
    {
      "cell_type": "code",
      "metadata": {
        "id": "5ZCQPYd03ypg",
        "colab": {
          "base_uri": "https://localhost:8080/"
        },
        "outputId": "4049c497-cab0-4400-d1da-a9e30b746405"
      },
      "source": [
        "#74. program to check if a person is eligible for voting\r\n",
        "\r\n",
        "age = int(input(\"Enter Age : \"))\r\n",
        "if age>=18:\r\n",
        "        status=\"Eligible\"\r\n",
        "else:\r\n",
        "    status=\"Not Eligible\"\r\n",
        "\r\n",
        "print(\"Age is\",age,\"so you are\",status,\" for Vote.\")\r\n"
      ],
      "execution_count": null,
      "outputs": [
        {
          "output_type": "stream",
          "text": [
            "Enter Age : 56\n",
            "Age is 56 so you are Eligible  for Vote.\n"
          ],
          "name": "stdout"
        }
      ]
    },
    {
      "cell_type": "code",
      "metadata": {
        "colab": {
          "base_uri": "https://localhost:8080/"
        },
        "id": "IktzX3toC0Y2",
        "outputId": "fb60ee7a-341f-4082-8a0f-1f32a36fb227"
      },
      "source": [
        "#75. Finding discount\r\n",
        "amount = int(input(\"Enter selling price: \"))\r\n",
        "\r\n",
        "if(amount>0):\r\n",
        "    if amount<=500:\r\n",
        "       disc = amount*0.05\r\n",
        "    elif amount<=1000:\r\n",
        "        disc=amount*0.1\r\n",
        "    elif amount<=2000:\r\n",
        "        disc=0.2 * amount\r\n",
        "    else:\r\n",
        "         disc=0.3 * amount\r\n",
        "\r\n",
        "    print(\"Discount : \",disc)\r\n",
        "    print(\"Net Pay  : \",amount-disc)\r\n",
        "else:\r\n",
        "    print(\"Invalid Amount\")"
      ],
      "execution_count": null,
      "outputs": [
        {
          "output_type": "stream",
          "text": [
            "Enter selling price: 1600\n",
            "Discount :  320.0\n",
            "Net Pay  :  1280.0\n"
          ],
          "name": "stdout"
        }
      ]
    },
    {
      "cell_type": "code",
      "metadata": {
        "colab": {
          "base_uri": "https://localhost:8080/"
        },
        "id": "HKHL40KMDcT0",
        "outputId": "3f7d8313-dc46-4bde-e107-c97932ae93af"
      },
      "source": [
        "#76. Tower of hanoi\r\n",
        "def hanoi(x):\r\n",
        "    if x == 1:\r\n",
        "        return 1\r\n",
        "    else:\r\n",
        "        return 2*hanoi(x-1) + 1\r\n",
        "x = int(input(\"enter num of disk: \"))\r\n",
        "print('number of steps: ', hanoi(x))\r\n"
      ],
      "execution_count": null,
      "outputs": [
        {
          "output_type": "stream",
          "text": [
            "enter num of disk: 3\n",
            "number of steps:  7\n"
          ],
          "name": "stdout"
        }
      ]
    },
    {
      "cell_type": "code",
      "metadata": {
        "colab": {
          "base_uri": "https://localhost:8080/"
        },
        "id": "IEiiORciEH8A",
        "outputId": "c48a5ddf-b5e9-402c-dc73-d011962d525f"
      },
      "source": [
        "#77. Converting centimeters to inches\r\n",
        "num = float(input(\"Enter the distance measured in centimeter : \"))\r\n",
        "\"\"\" 1 inch = 2.54 centimeters\"\"\"\r\n",
        "inc = num/2.54 \r\n",
        "print(\"Distance in inch : \", inc)\r\n"
      ],
      "execution_count": null,
      "outputs": [
        {
          "output_type": "stream",
          "text": [
            "Enter the distance measured in centimeter : 4\n",
            "Distance in inch :  1.574803149606299\n"
          ],
          "name": "stdout"
        }
      ]
    },
    {
      "cell_type": "code",
      "metadata": {
        "colab": {
          "base_uri": "https://localhost:8080/"
        },
        "id": "cONi9bz7Ed3g",
        "outputId": "f8139cf7-ace5-42de-81d0-970ab7e4bcb2"
      },
      "source": [
        "#78. converting to capital letters without using functions\r\n",
        "st = input('Type a string: ')\r\n",
        "out = ''\r\n",
        "for n in st:\r\n",
        "    if n not in 'abcdefghijklmnopqrstuvwqxyz':\r\n",
        "        out = out + n\r\n",
        "    else:\r\n",
        "        k = ord(n)\r\n",
        "        l = k - 32\r\n",
        "        out = out + chr(l)\r\n",
        "print('capital letters', out)    "
      ],
      "execution_count": null,
      "outputs": [
        {
          "output_type": "stream",
          "text": [
            "Type a string: hii\n",
            "capital letters HII\n"
          ],
          "name": "stdout"
        }
      ]
    },
    {
      "cell_type": "code",
      "metadata": {
        "colab": {
          "base_uri": "https://localhost:8080/"
        },
        "id": "92cQbxwxEwpw",
        "outputId": "db41ef80-d1cc-47cb-8ab5-ac79c3640f0c"
      },
      "source": [
        "#79. converting string to list\r\n",
        "\r\n",
        "str = str (input (\"Enter comma separated integers: \"))\r\n",
        "print (\"Input string: \", str)\r\n",
        "list = str.split (\",\")\r\n",
        "print (\"list: \", list)\r\n",
        "li = []\r\n",
        "for i in list:\r\n",
        "\tli.append(int(i))\r\n",
        "print (\"list (li) : \", li)\r\n",
        "\r\n"
      ],
      "execution_count": null,
      "outputs": [
        {
          "output_type": "stream",
          "text": [
            "Enter comma separated integers: 2,10,8,2879,88\n",
            "Input string:  2,10,8,2879,88\n",
            "list:  ['2', '10', '8', '2879', '88']\n",
            "list (li) :  [2, 10, 8, 2879, 88]\n"
          ],
          "name": "stdout"
        }
      ]
    },
    {
      "cell_type": "code",
      "metadata": {
        "colab": {
          "base_uri": "https://localhost:8080/"
        },
        "id": "g7BMDvrJFJaf",
        "outputId": "875ab614-45f5-4122-b403-0521c120180f"
      },
      "source": [
        "#80. Finding square and cube of the given number\r\n",
        "def square (num):\r\n",
        "\treturn  (num*num)\r\n",
        "def cube (num) :\r\n",
        "\treturn  (num*num*num) \r\n",
        "\r\n",
        "number = int (input(\"Enter an integer number: \"))\r\n",
        "print (\"square of {0} is {1}\".format(number, square(number)))\r\n",
        "print (\"Cube of {0} is {1}\".format(number, cube (number)))\r\n"
      ],
      "execution_count": null,
      "outputs": [
        {
          "output_type": "stream",
          "text": [
            "Enter an integer number: 3\n",
            "square of 3 is 9\n",
            "Cube of 3 is 27\n"
          ],
          "name": "stdout"
        }
      ]
    },
    {
      "cell_type": "code",
      "metadata": {
        "colab": {
          "base_uri": "https://localhost:8080/"
        },
        "id": "DxEbZhGZHzJj",
        "outputId": "4ca1a99f-676a-464f-f0f7-74fc3dcfbdd7"
      },
      "source": [
        "#81. Write a Program to BMI calculator\r\n",
        "height = float(input(\"Enter height in meters: \"))\r\n",
        "weight = float(input(\"Enter weight in kg: \"))\r\n",
        "bmi = weight/(height**2) \r\n",
        "print(\"Your BMI is: {0} and you are: \".format(bmi), end='')\r\n",
        "if ( bmi < 16):\r\n",
        "   print(\"severely underweight\")\r\n",
        "\r\n",
        "elif ( bmi >= 16 and bmi < 18.5):\r\n",
        "   print(\"underweight\")\r\n",
        "\r\n",
        "elif ( bmi >= 18.5 and bmi < 25):\r\n",
        "   print(\"Healthy\")\r\n",
        "\r\n",
        "elif ( bmi >= 25 and bmi < 30):\r\n",
        "   print(\"overweight\")\r\n",
        "\r\n",
        "elif ( bmi >=30):\r\n",
        "   print(\"severely overweight\")\r\n"
      ],
      "execution_count": null,
      "outputs": [
        {
          "output_type": "stream",
          "text": [
            "Enter height in meters: 1.7\n",
            "Enter weight in kg: 55\n",
            "Your BMI is: 19.031141868512112 and you are: Healthy\n"
          ],
          "name": "stdout"
        }
      ]
    },
    {
      "cell_type": "code",
      "metadata": {
        "colab": {
          "base_uri": "https://localhost:8080/"
        },
        "id": "cAVAEhYNJKL-",
        "outputId": "e532323c-3c78-4572-bc21-88608c6cea33"
      },
      "source": [
        "#82.Write a Program to find ASCII value of a character\r\n",
        "char_var = 'A'\r\n",
        "print(\"ASCII value of \" + char_var + \" is = \", ord(char_var))\r\n",
        "char_var = 'x'\r\n",
        "print(\"ASCII value of \" + char_var + \" is = \", ord(char_var))\r\n",
        "char_var = '9'\r\n",
        "print(\"ASCII value of \" + char_var + \" is = \", ord(char_var))\r\n",
        "\r\n"
      ],
      "execution_count": null,
      "outputs": [
        {
          "output_type": "stream",
          "text": [
            "ASCII value of A is =  65\n",
            "ASCII value of x is =  120\n",
            "ASCII value of 9 is =  57\n"
          ],
          "name": "stdout"
        }
      ]
    },
    {
      "cell_type": "code",
      "metadata": {
        "id": "qeSzfh-GJ-K2"
      },
      "source": [
        "#83. "
      ],
      "execution_count": null,
      "outputs": []
    }
  ]
}