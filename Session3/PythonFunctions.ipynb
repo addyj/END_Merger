{
  "nbformat": 4,
  "nbformat_minor": 0,
  "metadata": {
    "colab": {
      "name": "PythonFunctions.ipynb",
      "provenance": [],
      "collapsed_sections": [],
      "include_colab_link": true
    },
    "kernelspec": {
      "name": "python3",
      "display_name": "Python 3"
    }
  },
  "cells": [
    {
      "cell_type": "markdown",
      "metadata": {
        "id": "view-in-github",
        "colab_type": "text"
      },
      "source": [
        "<a href=\"https://colab.research.google.com/github/addyj/END_Merger/blob/main/Advanced%20Python%20for%20General%20Computing%20%26%20NLP/PythonFunctions.ipynb\" target=\"_parent\"><img src=\"https://colab.research.google.com/assets/colab-badge.svg\" alt=\"Open In Colab\"/></a>"
      ]
    },
    {
      "cell_type": "markdown",
      "metadata": {
        "id": "eb9IqU5R9luZ"
      },
      "source": [
        "# Advanced Python for General Computing & NLP"
      ]
    },
    {
      "cell_type": "code",
      "metadata": {
        "id": "cMVSNVKjpOGT"
      },
      "source": [
        "#Import libraries\n",
        "import numpy as np\n",
        "import math\n",
        "from urllib.request import urlopen\n",
        "from bs4 import BeautifulSoup\n",
        "from functools import reduce, partial\n",
        "import random\n",
        "import string"
      ],
      "execution_count": 17,
      "outputs": []
    },
    {
      "cell_type": "markdown",
      "metadata": {
        "id": "KkbiOlwy8CUE"
      },
      "source": [
        "### Lambda funtions"
      ]
    },
    {
      "cell_type": "markdown",
      "metadata": {
        "id": "rqHMn3E-7hrm"
      },
      "source": [
        "Function using list, filter, lambda that can tell whether a number is a Fibonacci number or not. A pre-calculated list is used to store fab numbers till 10000 is used\n"
      ]
    },
    {
      "cell_type": "code",
      "metadata": {
        "id": "-qoNiD8h7ZXa"
      },
      "source": [
        "def fibonacci_check(number:'input num') -> 'boolean':\n",
        "    '''\n",
        "    Function checks if the number given is a fibbonacci number or not.\n",
        "    Returns True / False\n",
        "    As per fibbanaci numbers defination, a number is Fibonacci only if the\n",
        "    5*(N^2) + 4 or 5*(N^2) - 4 is a perfect square.\n",
        "    '''\n",
        "\n",
        "    if not isinstance(number,(int,float)):\n",
        "        raise TypeError(\"Only Floats/Ints allowed as input\")\n",
        "\n",
        "    condition_1 = 5*((number)**2) + 4\n",
        "    condition_2 = 5*((number)**2) - 4\n",
        "\n",
        "    root_1 = math.sqrt(condition_1)\n",
        "    root_2 = math.sqrt(condition_2)\n",
        "\n",
        "    # If square root is an integer\n",
        "    return ((root_1 - math.floor(root_1)) == 0) or ((root_2 - math.floor(root_2)) == 0)\n",
        "    \n",
        "#Using list filter lambda function to return list of numbers which are fibonnaci in a given list\n",
        "fibonacci_list_check = lambda numbers: list(filter(lambda x : fibonacci_check(x), numbers)) "
      ],
      "execution_count": 5,
      "outputs": []
    },
    {
      "cell_type": "code",
      "metadata": {
        "id": "xYce_izb94EV",
        "outputId": "40b3b00b-6299-4375-877a-1f29478a32dc",
        "colab": {
          "base_uri": "https://localhost:8080/"
        }
      },
      "source": [
        "#Testing\n",
        "print(fibonacci_check(7))\n",
        "print(fibonacci_check(233))\n",
        "print(fibonacci_list_check([2,3,4,5,6,7,8]))"
      ],
      "execution_count": 6,
      "outputs": [
        {
          "output_type": "stream",
          "text": [
            "False\n",
            "True\n",
            "[2, 3, 5, 8]\n"
          ],
          "name": "stdout"
        }
      ]
    },
    {
      "cell_type": "markdown",
      "metadata": {
        "id": "h6WQimO48WiM"
      },
      "source": [
        "### List Comprehensions"
      ]
    },
    {
      "cell_type": "markdown",
      "metadata": {
        "id": "349_Mx6d8VYs"
      },
      "source": [
        "Using list comprehension (and zip/lambda/etc if required) five different expressions are written"
      ]
    },
    {
      "cell_type": "code",
      "metadata": {
        "id": "cDniP0Xk8oIm"
      },
      "source": [
        "#1. add 2 iterables a and b such that a is even and b is odd\n",
        "add_even_odd = lambda a, b: [sum(i) for i in zip([i for i in a if i%2 == 0], [i for i in b if i%2 != 0])]\n",
        "\n",
        "#2. strips every vowel from a string provided (tsai>>t s)\n",
        "strip_vowels = lambda x: ' '.join(map(str, [char for char in  x if char not in 'aieou']))\n",
        "\n",
        "#3. acts like a ReLU function for a 1D array\n",
        "relu = lambda x: [max(num, 0) for num in x] \n",
        "\n",
        "#4. acts like a sigmoid function for a 1D array\n",
        "sigmoid = lambda x : [1/(1 + np.exp(-num)) for num in x]  \n",
        "\n",
        "#5. takes a small character string and shifts all characters by 5 (handle boundary conditions) tsai>>yxfn\n",
        "shift = lambda shift, string : ''.join(chr(ord('a') + (ord(char)-ord('a')+shift) % 26) for char in string.lower())\n"
      ],
      "execution_count": 11,
      "outputs": []
    },
    {
      "cell_type": "code",
      "metadata": {
        "id": "JAmqZFYXdJkK",
        "outputId": "3f762df8-968d-46cf-ff5f-63fd759669e3",
        "colab": {
          "base_uri": "https://localhost:8080/"
        }
      },
      "source": [
        "#Testing\n",
        "print(add_even_odd([1,2,3,4,5,6,7],[10,20,30,40,50,60,70]))\n",
        "print(add_even_odd([1,2,3,4,5,6,7],[11,21,31,41,51,60,70]))\n",
        "print(strip_vowels(\"tsai\"))\n",
        "print(relu([-1,2,-3,4,5,6,3.6,0.0,7]))\n",
        "print(sigmoid([-1,2,-3,4,5,6,7, 100]))\n",
        "print(shift(5, 'vwxyz'))\n",
        "print(shift(45, 'divya'))"
      ],
      "execution_count": 12,
      "outputs": [
        {
          "output_type": "stream",
          "text": [
            "[]\n",
            "[13, 25, 37]\n",
            "t s\n",
            "[0, 2, 0, 4, 5, 6, 3.6, 0.0, 7]\n",
            "[0.2689414213699951, 0.8807970779778823, 0.04742587317756678, 0.9820137900379085, 0.9933071490757153, 0.9975273768433653, 0.9990889488055994, 1.0]\n",
            "abcde\n",
            "wbort\n"
          ],
          "name": "stdout"
        }
      ]
    },
    {
      "cell_type": "markdown",
      "metadata": {
        "id": "btOww31q8v0m"
      },
      "source": [
        "### Profanity Check"
      ]
    },
    {
      "cell_type": "code",
      "metadata": {
        "id": "F49cOZnl8qSJ"
      },
      "source": [
        "#Function to get list of profanity words from Google profanity URL\n",
        "def profanitytextfile():\n",
        "    url = \"https://github.com/RobertJGabriel/Google-profanity-words/blob/master/list.txt\"\n",
        "    html = urlopen(url).read()\n",
        "    soup = BeautifulSoup(html, features=\"html.parser\")\n",
        "\n",
        "    textlist = []\n",
        "    table = soup.find('table')\n",
        "    trs = table.find_all('tr')\n",
        "    for tr in trs:\n",
        "        tds = tr.find_all('td')\n",
        "        for td in tds:\n",
        "            textlist.append(td.text)\n",
        "    return textlist\n",
        "\n",
        "#Checks whether a given para contains any words present in the google profanity list\n",
        "profanity_words  = lambda para, textlist: bool([word for word in para.split() if word in textlist])\n",
        "\n"
      ],
      "execution_count": 9,
      "outputs": []
    },
    {
      "cell_type": "code",
      "metadata": {
        "id": "UFNeQRhjdZJF",
        "outputId": "671c3f22-1d23-4aa7-af36-4079ff5fafbd",
        "colab": {
          "base_uri": "https://localhost:8080/"
        }
      },
      "source": [
        "textlist = profanitytextfile()\n",
        "sentence = 'If you actually care abo. dds dsdsd. If you fuck actually car'\n",
        "words_in_para = [word for word in sentence.split()]\n",
        "profanity_words  = [word for word in words_in_para if word in textlist]\n",
        "print(bool(profanity_words))"
      ],
      "execution_count": 10,
      "outputs": [
        {
          "output_type": "stream",
          "text": [
            "True\n"
          ],
          "name": "stdout"
        }
      ]
    },
    {
      "cell_type": "markdown",
      "metadata": {
        "id": "t_5evFlY88mB"
      },
      "source": [
        "### Reduce Functions"
      ]
    },
    {
      "cell_type": "code",
      "metadata": {
        "id": "9qcPo-wI8zN2"
      },
      "source": [
        "#add only even numbers in a list\n",
        "sum_of_even_nos = lambda listofnos: reduce((lambda x,y: x+y),[no for no in listofnos if no%2 == 0])\n",
        "\n",
        "#find the biggest character in a string (printable ascii characters)\n",
        "bigChar = lambda word: reduce(lambda x,y: x if ord(x) > ord(y) else y, word)\n",
        "\n",
        "#adds every 3rd number in a list\n",
        "#Using slicing to find every 3rd element\n",
        "sum_of_every_3rdnos = lambda listofnos: reduce((lambda x,y: x+y),listofnos[2::3])\n"
      ],
      "execution_count": 15,
      "outputs": []
    },
    {
      "cell_type": "code",
      "metadata": {
        "id": "SoSYGH3eegUT",
        "outputId": "f58ad89d-f989-4d17-b853-94382979a58f",
        "colab": {
          "base_uri": "https://localhost:8080/"
        }
      },
      "source": [
        "#Testing\n",
        "print(sum_of_even_nos([1,2,3,4,5,6,7]))\n",
        "print(bigChar('ABCDEa is big word'))\n",
        "li = [1,2,3,4,5,6,7]\n",
        "print(li[::2])\n",
        "print(sum_of_every_3rdnos([1,2,3,4,5,6,7]))"
      ],
      "execution_count": 16,
      "outputs": [
        {
          "output_type": "stream",
          "text": [
            "12\n",
            "w\n",
            "[1, 3, 5, 7]\n",
            "9\n"
          ],
          "name": "stdout"
        }
      ]
    },
    {
      "cell_type": "markdown",
      "metadata": {
        "id": "tp6Oq_hl9M2b"
      },
      "source": [
        "### Partial Functions"
      ]
    },
    {
      "cell_type": "markdown",
      "metadata": {
        "id": "Buz0XV2B9L0g"
      },
      "source": [
        "Using randint, random.choice and list comprehensions, an expression is written that generates 15 random KADDAADDDD number plates, where KA is fixed, D stands for a digit, \n",
        "  and A stands for Capital alphabets. 10<<DD<<99 & 1000<<DDDD<<9999 \n",
        "\n",
        "Function where KA can be changed to DL, and 1000/9999 ranges can be provided.  "
      ]
    },
    {
      "cell_type": "code",
      "metadata": {
        "id": "OnVN2PEA9CvL"
      },
      "source": [
        "generatelicenseplates = [\"KA\"+str(random.randint(10, 100))+''.join(random.choice(string.ascii_uppercase) for i in range(2))+str(random.randint(1000,10000)) for i in range(15)]"
      ],
      "execution_count": 18,
      "outputs": []
    },
    {
      "cell_type": "code",
      "metadata": {
        "id": "nY6EWik3eAWp",
        "outputId": "c12b15cf-4ebb-43b0-d052-f93b16020f67",
        "colab": {
          "base_uri": "https://localhost:8080/"
        }
      },
      "source": [
        "#By default it generates for state 'KA\"\n",
        "print(generatelicenseplates)"
      ],
      "execution_count": 30,
      "outputs": [
        {
          "output_type": "stream",
          "text": [
            "['KA73LJ3592', 'KA74MZ6517', 'KA89KM3137', 'KA96DS2649', 'KA48UA6445', 'KA92PV8087', 'KA12TG4450', 'KA54ZQ8504', 'KA44SY7395', 'KA80DT6485', 'KA83RJ1345', 'KA44LG2289', 'KA37DN3406', 'KA40OR8351', 'KA97BF1602']\n"
          ],
          "name": "stdout"
        }
      ]
    },
    {
      "cell_type": "code",
      "metadata": {
        "id": "I8_hxF-lwOYj"
      },
      "source": [
        "def number_plate_generator_user(state:'state 2 letter code', last_num_start:'range start', last_num_end:'range end') -> 'list':\n",
        "    '''\n",
        "    function generates 15 random number plates starting with KA (stands for Karnataka)\n",
        "    in the format of KADDAADDDD, where KA can be changed to DL or any state code,\n",
        "    and 1000/9999 ranges can be provided.\n",
        "    and A stands for Capital alphabets. 10<<DD<<99 & 1000<<DDDD<<9999\n",
        "    returns list of plates\n",
        "    '''\n",
        "    if not isinstance(last_num_start,int):\n",
        "        raise TypeError(\"Only int allowed as minimum range\")\n",
        "\n",
        "    if not isinstance(last_num_end,int):\n",
        "        raise TypeError(\"Only int allowed as maximum range\")\n",
        "\n",
        "    if not isinstance(state,str):\n",
        "        raise TypeError(\"Only string allowed as state code\")\n",
        "\n",
        "    if len(state)!=2:\n",
        "        raise ValueError(\"State code must have only 2 characters\")\n",
        "\n",
        "    if state not in ['AN','AP','AR','AS','BR','CG','CH','DD','DL','GA','GJ','HP','HR','JH','JK','KA','KL','LA','LD','MH','ML','MN','MP','MZ','NL','OD','PB','PY','RJ','SK','TN','TR','TS','UK','UP','WB']:\n",
        "        raise ValueError(\"Invalid state_code provided\")\n",
        "\n",
        "    return [state + str(random.randint(10,100)) + random.choice(string.ascii_uppercase)\n",
        "    + random.choice(string.ascii_uppercase) + str(random.randint(last_num_start,last_num_end)) for i in range(15)]\n",
        "\n",
        "# using a partial function such that 1000/9999 range can be provided, but KA (state) can be changed to user state  \n",
        "number_plate_generator_partial = partial(number_plate_generator_user,'DL')\n"
      ],
      "execution_count": 29,
      "outputs": []
    },
    {
      "cell_type": "code",
      "metadata": {
        "id": "eEcUBHrveYxF",
        "outputId": "16f1112d-f050-43eb-930e-d94a92a76155",
        "colab": {
          "base_uri": "https://localhost:8080/"
        }
      },
      "source": [
        "#Generates for user based state\n",
        "print(number_plate_generator_user('TN',1000,10000))"
      ],
      "execution_count": 33,
      "outputs": [
        {
          "output_type": "stream",
          "text": [
            "['TN28GX6698', 'TN32KX4220', 'TN43HS5491', 'TN81RT3387', 'TN27TN3293', 'TN79VL5997', 'TN98DR9166', 'TN84SY7322', 'TN12FO2193', 'TN67MX7611', 'TN71JX8247', 'TN98CH3291', 'TN79EU8745', 'TN82TH4470', 'TN46MX5801']\n"
          ],
          "name": "stdout"
        }
      ]
    },
    {
      "cell_type": "code",
      "metadata": {
        "id": "x116e3YDwphu",
        "outputId": "277f2448-e1ca-4e82-94a2-7b244e937ca6",
        "colab": {
          "base_uri": "https://localhost:8080/"
        }
      },
      "source": [
        "#Generates plate using partial function\n",
        "print(number_plate_generator_partial(1000,10000))\n"
      ],
      "execution_count": 34,
      "outputs": [
        {
          "output_type": "stream",
          "text": [
            "['DL21XO3405', 'DL57CL1895', 'DL45FR8939', 'DL19HE9580', 'DL22HN8382', 'DL76SO4847', 'DL38ZQ4460', 'DL18RL1609', 'DL37FE5478', 'DL94RU2094', 'DL95NY6427', 'DL67NY6087', 'DL80LX3629', 'DL44GX6777', 'DL45QQ5529']\n"
          ],
          "name": "stdout"
        }
      ]
    },
    {
      "cell_type": "code",
      "metadata": {
        "id": "iFRkhwjjzBH5"
      },
      "source": [
        ""
      ],
      "execution_count": null,
      "outputs": []
    }
  ]
}