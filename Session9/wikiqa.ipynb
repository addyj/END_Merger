{
  "nbformat": 4,
  "nbformat_minor": 0,
  "metadata": {
    "colab": {
      "name": "wikiqa.ipynb",
      "provenance": [],
      "authorship_tag": "ABX9TyNYk2NwLOTC3dGdoM3sq+gx",
      "include_colab_link": true
    },
    "kernelspec": {
      "name": "python3",
      "display_name": "Python 3"
    }
  },
  "cells": [
    {
      "cell_type": "markdown",
      "metadata": {
        "id": "view-in-github",
        "colab_type": "text"
      },
      "source": [
        "<a href=\"https://colab.research.google.com/github/addyj/END_Merger/blob/main/Session9/wikiqa.ipynb\" target=\"_parent\"><img src=\"https://colab.research.google.com/assets/colab-badge.svg\" alt=\"Open In Colab\"/></a>"
      ]
    },
    {
      "cell_type": "code",
      "metadata": {
        "id": "6Kc_vG6amGOE"
      },
      "source": [
        "import torch\r\n",
        "import torch.nn as nn\r\n",
        "import torch.optim as optim\r\n",
        "\r\n",
        "from torchtext.data import Field, BucketIterator\r\n",
        "\r\n",
        "import spacy\r\n",
        "import numpy as np\r\n",
        "import pandas as pd\r\n",
        "\r\n",
        "import random\r\n",
        "import math\r\n",
        "import time"
      ],
      "execution_count": null,
      "outputs": []
    },
    {
      "cell_type": "code",
      "metadata": {
        "colab": {
          "base_uri": "https://localhost:8080/",
          "height": 359
        },
        "id": "JX3I3qpmmOIS",
        "outputId": "ae9e84ef-15b0-4a31-97f0-06a21f6a1abf"
      },
      "source": [
        "wikiQA_train=pd.read_csv(r\"WikiQA-train.csv\")\r\n",
        "wikiQA_train.head(10)"
      ],
      "execution_count": null,
      "outputs": [
        {
          "output_type": "execute_result",
          "data": {
            "text/html": [
              "<div>\n",
              "<style scoped>\n",
              "    .dataframe tbody tr th:only-of-type {\n",
              "        vertical-align: middle;\n",
              "    }\n",
              "\n",
              "    .dataframe tbody tr th {\n",
              "        vertical-align: top;\n",
              "    }\n",
              "\n",
              "    .dataframe thead th {\n",
              "        text-align: right;\n",
              "    }\n",
              "</style>\n",
              "<table border=\"1\" class=\"dataframe\">\n",
              "  <thead>\n",
              "    <tr style=\"text-align: right;\">\n",
              "      <th></th>\n",
              "      <th>QuestionID</th>\n",
              "      <th>Question</th>\n",
              "      <th>DocumentID</th>\n",
              "      <th>DocumentTitle</th>\n",
              "      <th>SentenceID</th>\n",
              "      <th>Sentence</th>\n",
              "      <th>Label</th>\n",
              "    </tr>\n",
              "  </thead>\n",
              "  <tbody>\n",
              "    <tr>\n",
              "      <th>0</th>\n",
              "      <td>Q1</td>\n",
              "      <td>how are glacier caves formed?</td>\n",
              "      <td>D1</td>\n",
              "      <td>Glacier cave</td>\n",
              "      <td>D1-0</td>\n",
              "      <td>A partly submerged glacier cave on Perito More...</td>\n",
              "      <td>0</td>\n",
              "    </tr>\n",
              "    <tr>\n",
              "      <th>1</th>\n",
              "      <td>Q1</td>\n",
              "      <td>how are glacier caves formed?</td>\n",
              "      <td>D1</td>\n",
              "      <td>Glacier cave</td>\n",
              "      <td>D1-1</td>\n",
              "      <td>The ice facade is approximately 60 m high</td>\n",
              "      <td>0</td>\n",
              "    </tr>\n",
              "    <tr>\n",
              "      <th>2</th>\n",
              "      <td>Q1</td>\n",
              "      <td>how are glacier caves formed?</td>\n",
              "      <td>D1</td>\n",
              "      <td>Glacier cave</td>\n",
              "      <td>D1-2</td>\n",
              "      <td>Ice formations in the Titlis glacier cave</td>\n",
              "      <td>0</td>\n",
              "    </tr>\n",
              "    <tr>\n",
              "      <th>3</th>\n",
              "      <td>Q1</td>\n",
              "      <td>how are glacier caves formed?</td>\n",
              "      <td>D1</td>\n",
              "      <td>Glacier cave</td>\n",
              "      <td>D1-3</td>\n",
              "      <td>A glacier cave is a cave formed within the ice...</td>\n",
              "      <td>1</td>\n",
              "    </tr>\n",
              "    <tr>\n",
              "      <th>4</th>\n",
              "      <td>Q1</td>\n",
              "      <td>how are glacier caves formed?</td>\n",
              "      <td>D1</td>\n",
              "      <td>Glacier cave</td>\n",
              "      <td>D1-4</td>\n",
              "      <td>Glacier caves are often called ice caves , but...</td>\n",
              "      <td>0</td>\n",
              "    </tr>\n",
              "    <tr>\n",
              "      <th>5</th>\n",
              "      <td>Q2</td>\n",
              "      <td>How are the directions of the velocity and for...</td>\n",
              "      <td>D2</td>\n",
              "      <td>Circular motion</td>\n",
              "      <td>D2-0</td>\n",
              "      <td>In physics , circular motion is a movement of ...</td>\n",
              "      <td>0</td>\n",
              "    </tr>\n",
              "    <tr>\n",
              "      <th>6</th>\n",
              "      <td>Q2</td>\n",
              "      <td>How are the directions of the velocity and for...</td>\n",
              "      <td>D2</td>\n",
              "      <td>Circular motion</td>\n",
              "      <td>D2-1</td>\n",
              "      <td>It can be uniform, with constant angular rate ...</td>\n",
              "      <td>0</td>\n",
              "    </tr>\n",
              "    <tr>\n",
              "      <th>7</th>\n",
              "      <td>Q2</td>\n",
              "      <td>How are the directions of the velocity and for...</td>\n",
              "      <td>D2</td>\n",
              "      <td>Circular motion</td>\n",
              "      <td>D2-2</td>\n",
              "      <td>The rotation around a fixed axis of a three-di...</td>\n",
              "      <td>0</td>\n",
              "    </tr>\n",
              "    <tr>\n",
              "      <th>8</th>\n",
              "      <td>Q2</td>\n",
              "      <td>How are the directions of the velocity and for...</td>\n",
              "      <td>D2</td>\n",
              "      <td>Circular motion</td>\n",
              "      <td>D2-3</td>\n",
              "      <td>The equations of motion describe the movement ...</td>\n",
              "      <td>0</td>\n",
              "    </tr>\n",
              "    <tr>\n",
              "      <th>9</th>\n",
              "      <td>Q2</td>\n",
              "      <td>How are the directions of the velocity and for...</td>\n",
              "      <td>D2</td>\n",
              "      <td>Circular motion</td>\n",
              "      <td>D2-4</td>\n",
              "      <td>Examples of circular motion include: an artifi...</td>\n",
              "      <td>0</td>\n",
              "    </tr>\n",
              "  </tbody>\n",
              "</table>\n",
              "</div>"
            ],
            "text/plain": [
              "  QuestionID  ... Label\n",
              "0         Q1  ...     0\n",
              "1         Q1  ...     0\n",
              "2         Q1  ...     0\n",
              "3         Q1  ...     1\n",
              "4         Q1  ...     0\n",
              "5         Q2  ...     0\n",
              "6         Q2  ...     0\n",
              "7         Q2  ...     0\n",
              "8         Q2  ...     0\n",
              "9         Q2  ...     0\n",
              "\n",
              "[10 rows x 7 columns]"
            ]
          },
          "metadata": {
            "tags": []
          },
          "execution_count": 35
        }
      ]
    },
    {
      "cell_type": "code",
      "metadata": {
        "colab": {
          "base_uri": "https://localhost:8080/"
        },
        "id": "mMRUYMjPvPPy",
        "outputId": "6c84e16a-e6bf-4e51-e3e2-890123d0c27a"
      },
      "source": [
        "wikiQA_train.shape"
      ],
      "execution_count": null,
      "outputs": [
        {
          "output_type": "execute_result",
          "data": {
            "text/plain": [
              "(20347, 7)"
            ]
          },
          "metadata": {
            "tags": []
          },
          "execution_count": 36
        }
      ]
    },
    {
      "cell_type": "code",
      "metadata": {
        "colab": {
          "base_uri": "https://localhost:8080/"
        },
        "id": "RRT_dwA8vqBZ",
        "outputId": "3321e02d-6b79-4c96-f28a-42a78a85ad4c"
      },
      "source": [
        "wikiQA_train.Question.value_counts()"
      ],
      "execution_count": null,
      "outputs": [
        {
          "output_type": "execute_result",
          "data": {
            "text/plain": [
              "what president was theodore roosevelt            30\n",
              "what ancient cultures had marketplaces           30\n",
              "what type of batteries are 357 (LR44)            30\n",
              "what is (sic)                                    30\n",
              "how is power divided in in european countries    30\n",
              "                                                 ..\n",
              "who plays angie on george lopez                   1\n",
              "what happened to duffy waldorf                    1\n",
              "what is aluminum nitrate used for                 1\n",
              "when to get wild chokecherry?                     1\n",
              "who plays angie lopez                             1\n",
              "Name: Question, Length: 2117, dtype: int64"
            ]
          },
          "metadata": {
            "tags": []
          },
          "execution_count": 37
        }
      ]
    },
    {
      "cell_type": "code",
      "metadata": {
        "colab": {
          "base_uri": "https://localhost:8080/",
          "height": 529
        },
        "id": "PSQzwa7z1HJ3",
        "outputId": "3a151132-9f11-42c0-e160-6aaccd836e0b"
      },
      "source": [
        "wikiQA_test=pd.read_csv(r\"WikiQA-test.csv\")\r\n",
        "wikiQA_test.head(10)"
      ],
      "execution_count": null,
      "outputs": [
        {
          "output_type": "execute_result",
          "data": {
            "text/html": [
              "<div>\n",
              "<style scoped>\n",
              "    .dataframe tbody tr th:only-of-type {\n",
              "        vertical-align: middle;\n",
              "    }\n",
              "\n",
              "    .dataframe tbody tr th {\n",
              "        vertical-align: top;\n",
              "    }\n",
              "\n",
              "    .dataframe thead th {\n",
              "        text-align: right;\n",
              "    }\n",
              "</style>\n",
              "<table border=\"1\" class=\"dataframe\">\n",
              "  <thead>\n",
              "    <tr style=\"text-align: right;\">\n",
              "      <th></th>\n",
              "      <th>QuestionID</th>\n",
              "      <th>Question</th>\n",
              "      <th>DocumentID</th>\n",
              "      <th>DocumentTitle</th>\n",
              "      <th>SentenceID</th>\n",
              "      <th>Sentence</th>\n",
              "      <th>Label</th>\n",
              "    </tr>\n",
              "  </thead>\n",
              "  <tbody>\n",
              "    <tr>\n",
              "      <th>0</th>\n",
              "      <td>Q0</td>\n",
              "      <td>HOW AFRICAN AMERICANS WERE IMMIGRATED TO THE US</td>\n",
              "      <td>D0</td>\n",
              "      <td>African immigration to the United States</td>\n",
              "      <td>D0-0</td>\n",
              "      <td>African immigration to the United States refer...</td>\n",
              "      <td>0</td>\n",
              "    </tr>\n",
              "    <tr>\n",
              "      <th>1</th>\n",
              "      <td>Q0</td>\n",
              "      <td>HOW AFRICAN AMERICANS WERE IMMIGRATED TO THE US</td>\n",
              "      <td>D0</td>\n",
              "      <td>African immigration to the United States</td>\n",
              "      <td>D0-1</td>\n",
              "      <td>The term African in the scope of this article ...</td>\n",
              "      <td>0</td>\n",
              "    </tr>\n",
              "    <tr>\n",
              "      <th>2</th>\n",
              "      <td>Q0</td>\n",
              "      <td>HOW AFRICAN AMERICANS WERE IMMIGRATED TO THE US</td>\n",
              "      <td>D0</td>\n",
              "      <td>African immigration to the United States</td>\n",
              "      <td>D0-2</td>\n",
              "      <td>From the Immigration and Nationality Act of 19...</td>\n",
              "      <td>0</td>\n",
              "    </tr>\n",
              "    <tr>\n",
              "      <th>3</th>\n",
              "      <td>Q0</td>\n",
              "      <td>HOW AFRICAN AMERICANS WERE IMMIGRATED TO THE US</td>\n",
              "      <td>D0</td>\n",
              "      <td>African immigration to the United States</td>\n",
              "      <td>D0-3</td>\n",
              "      <td>African immigrants in the United States come f...</td>\n",
              "      <td>0</td>\n",
              "    </tr>\n",
              "    <tr>\n",
              "      <th>4</th>\n",
              "      <td>Q0</td>\n",
              "      <td>HOW AFRICAN AMERICANS WERE IMMIGRATED TO THE US</td>\n",
              "      <td>D0</td>\n",
              "      <td>African immigration to the United States</td>\n",
              "      <td>D0-4</td>\n",
              "      <td>They include people from different national, l...</td>\n",
              "      <td>0</td>\n",
              "    </tr>\n",
              "    <tr>\n",
              "      <th>5</th>\n",
              "      <td>Q0</td>\n",
              "      <td>HOW AFRICAN AMERICANS WERE IMMIGRATED TO THE US</td>\n",
              "      <td>D0</td>\n",
              "      <td>African immigration to the United States</td>\n",
              "      <td>D0-5</td>\n",
              "      <td>As such, African immigrants are to be distingu...</td>\n",
              "      <td>1</td>\n",
              "    </tr>\n",
              "    <tr>\n",
              "      <th>6</th>\n",
              "      <td>Q3</td>\n",
              "      <td>how large were early jails</td>\n",
              "      <td>D3</td>\n",
              "      <td>Prison</td>\n",
              "      <td>D3-0</td>\n",
              "      <td>A prison (from Old French prisoun), also known...</td>\n",
              "      <td>0</td>\n",
              "    </tr>\n",
              "    <tr>\n",
              "      <th>7</th>\n",
              "      <td>Q3</td>\n",
              "      <td>how large were early jails</td>\n",
              "      <td>D3</td>\n",
              "      <td>Prison</td>\n",
              "      <td>D3-1</td>\n",
              "      <td>Imprisonment or incarceration is a legal penal...</td>\n",
              "      <td>0</td>\n",
              "    </tr>\n",
              "    <tr>\n",
              "      <th>8</th>\n",
              "      <td>Q3</td>\n",
              "      <td>how large were early jails</td>\n",
              "      <td>D3</td>\n",
              "      <td>Prison</td>\n",
              "      <td>D3-2</td>\n",
              "      <td>Other terms used are penitentiary, correctiona...</td>\n",
              "      <td>0</td>\n",
              "    </tr>\n",
              "    <tr>\n",
              "      <th>9</th>\n",
              "      <td>Q3</td>\n",
              "      <td>how large were early jails</td>\n",
              "      <td>D3</td>\n",
              "      <td>Prison</td>\n",
              "      <td>D3-3</td>\n",
              "      <td>In some legal systems some of these terms have...</td>\n",
              "      <td>0</td>\n",
              "    </tr>\n",
              "  </tbody>\n",
              "</table>\n",
              "</div>"
            ],
            "text/plain": [
              "  QuestionID  ... Label\n",
              "0         Q0  ...     0\n",
              "1         Q0  ...     0\n",
              "2         Q0  ...     0\n",
              "3         Q0  ...     0\n",
              "4         Q0  ...     0\n",
              "5         Q0  ...     1\n",
              "6         Q3  ...     0\n",
              "7         Q3  ...     0\n",
              "8         Q3  ...     0\n",
              "9         Q3  ...     0\n",
              "\n",
              "[10 rows x 7 columns]"
            ]
          },
          "metadata": {
            "tags": []
          },
          "execution_count": 40
        }
      ]
    },
    {
      "cell_type": "code",
      "metadata": {
        "colab": {
          "base_uri": "https://localhost:8080/"
        },
        "id": "cj4JEAhZ53OZ",
        "outputId": "16066a6e-1912-4bcd-c0de-384f21b33935"
      },
      "source": [
        "wikiQA_test.shape"
      ],
      "execution_count": null,
      "outputs": [
        {
          "output_type": "execute_result",
          "data": {
            "text/plain": [
              "(6116, 7)"
            ]
          },
          "metadata": {
            "tags": []
          },
          "execution_count": 41
        }
      ]
    },
    {
      "cell_type": "code",
      "metadata": {
        "colab": {
          "base_uri": "https://localhost:8080/"
        },
        "id": "eVECwphA6WIX",
        "outputId": "db93a933-e70a-44bb-eb79-93d70c975d35"
      },
      "source": [
        "# Import Library\r\n",
        "import random\r\n",
        "import torch, torchtext\r\n",
        "from torchtext import data \r\n",
        "\r\n",
        "# Manual Seed\r\n",
        "SEED = 43\r\n",
        "torch.manual_seed(SEED)"
      ],
      "execution_count": null,
      "outputs": [
        {
          "output_type": "execute_result",
          "data": {
            "text/plain": [
              "<torch._C.Generator at 0x7fb6b801fb58>"
            ]
          },
          "metadata": {
            "tags": []
          },
          "execution_count": 42
        }
      ]
    },
    {
      "cell_type": "code",
      "metadata": {
        "id": "zGL7g_8vJMND"
      },
      "source": [
        "Sentences = data.Field(sequential = True, tokenize = 'spacy', batch_first =True, include_lengths=True)\r\n",
        "Label = data.LabelField(tokenize ='spacy', is_target=True, batch_first =True, sequential =False)"
      ],
      "execution_count": null,
      "outputs": []
    },
    {
      "cell_type": "code",
      "metadata": {
        "id": "5XgT5hhqJlhP"
      },
      "source": [
        "fields = [('Question', Sentences),('Sentence', Sentences),('Label',Label)]"
      ],
      "execution_count": null,
      "outputs": []
    },
    {
      "cell_type": "code",
      "metadata": {
        "id": "a8Cen7vMJ7Dd"
      },
      "source": [
        "example = [data.Example.fromlist([wikiQA_train.Question[i],wikiQA_train.Sentence[i],wikiQA_train.Label[i]], fields) for i in range(wikiQA_train.shape[0])] "
      ],
      "execution_count": null,
      "outputs": []
    },
    {
      "cell_type": "code",
      "metadata": {
        "id": "abEcHJ9EKTOH"
      },
      "source": [
        "wikiDataset = data.Dataset(example, fields)"
      ],
      "execution_count": null,
      "outputs": []
    },
    {
      "cell_type": "code",
      "metadata": {
        "id": "efwxa-amKdzW"
      },
      "source": [
        "Sentences.build_vocab(wikiQA_train)\r\n",
        "Label.build_vocab(wikiQA_train)"
      ],
      "execution_count": null,
      "outputs": []
    },
    {
      "cell_type": "code",
      "metadata": {
        "colab": {
          "base_uri": "https://localhost:8080/"
        },
        "id": "aLYON5WQKmKv",
        "outputId": "bccedf88-5f18-4701-fd9c-84e7be90d4d1"
      },
      "source": [
        "print('Size of input vocab : ', len(Sentences.vocab))\r\n",
        "print('Size of label vocab : ', len(Label.vocab))\r\n",
        "print('Top 10 words appreared repeatedly :', list(Sentences.vocab.freqs.most_common(10)))\r\n",
        "print('Labels : ', Label.vocab.stoi)"
      ],
      "execution_count": null,
      "outputs": [
        {
          "output_type": "stream",
          "text": [
            "Size of input vocab :  20\n",
            "Size of label vocab :  7\n",
            "Top 10 words appreared repeatedly : [('e', 12), ('n', 8), ('t', 7), ('D', 5), ('u', 4), ('o', 4), ('c', 4), ('i', 3), ('I', 3), ('Q', 2)]\n",
            "Labels :  defaultdict(<function _default_unk_index at 0x7fb669dfdf28>, {'DocumentID': 0, 'DocumentTitle': 1, 'Label': 2, 'Question': 3, 'QuestionID': 4, 'Sentence': 5, 'SentenceID': 6})\n"
          ],
          "name": "stdout"
        }
      ]
    },
    {
      "cell_type": "code",
      "metadata": {
        "id": "WzXnGfhCLUFV"
      },
      "source": [
        ""
      ],
      "execution_count": null,
      "outputs": []
    }
  ]
}